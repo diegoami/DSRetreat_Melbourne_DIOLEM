{
 "cells": [
  {
   "cell_type": "code",
   "execution_count": 3,
   "metadata": {
    "collapsed": true
   },
   "outputs": [],
   "source": [
    "import numpy as np\n",
    "import pandas as pd\n",
    "import os.path\n",
    "import matplotlib.pyplot as plt\n",
    "%matplotlib inline"
   ]
  },
  {
   "cell_type": "code",
   "execution_count": 16,
   "metadata": {},
   "outputs": [],
   "source": [
    "base = '../data/'\n",
    "path = 'train_apps_raw.csv'\n",
    "apps = pd.read_csv(os.path.join(base,path), low_memory=False)"
   ]
  },
  {
   "cell_type": "code",
   "execution_count": 17,
   "metadata": {
    "collapsed": true
   },
   "outputs": [],
   "source": [
    "def print_details(ds):\n",
    "    print('Total size: {}\\n# of unique {}\\n# of nans {}'.format(\n",
    "    ds.shape[0],ds.unique().shape[0],ds.isnull().sum()))"
   ]
  },
  {
   "cell_type": "code",
   "execution_count": 18,
   "metadata": {},
   "outputs": [
    {
     "name": "stdout",
     "output_type": "stream",
     "text": [
      "Total size: 6633\n",
      "# of unique 246\n",
      "# of nans 832\n"
     ]
    }
   ],
   "source": [
    "print_details(apps['sponsor'])"
   ]
  },
  {
   "cell_type": "code",
   "execution_count": 19,
   "metadata": {},
   "outputs": [
    {
     "name": "stdout",
     "output_type": "stream",
     "text": [
      "Total size: 6633\n",
      "# of unique 14\n",
      "# of nans 832\n"
     ]
    }
   ],
   "source": [
    "print_details(apps['grant_category'])"
   ]
  },
  {
   "cell_type": "code",
   "execution_count": 20,
   "metadata": {},
   "outputs": [
    {
     "name": "stdout",
     "output_type": "stream",
     "text": [
      "Total size: 6633\n",
      "# of unique 17\n",
      "# of nans 2719\n"
     ]
    }
   ],
   "source": [
    "print_details(apps['grant_value'])"
   ]
  },
  {
   "cell_type": "code",
   "execution_count": 21,
   "metadata": {},
   "outputs": [
    {
     "data": {
      "text/plain": [
       "5000.0        1867\n",
       "10000.0        484\n",
       "20000.0        353\n",
       "30000.0        367\n",
       "40000.0        231\n",
       "50000.0        194\n",
       "100000.0       295\n",
       "200000.0        72\n",
       "300000.0        14\n",
       "400000.0        19\n",
       "500000.0         5\n",
       "600000.0         2\n",
       "700000.0         1\n",
       "900000.0         2\n",
       "1000000.0        2\n",
       "10000000.0       6\n",
       "Name: grant_value, dtype: int64"
      ]
     },
     "execution_count": 21,
     "metadata": {},
     "output_type": "execute_result"
    }
   ],
   "source": [
    "apps['grant_value'].value_counts().sort_index()"
   ]
  },
  {
   "cell_type": "code",
   "execution_count": 15,
   "metadata": {},
   "outputs": [
    {
     "name": "stdout",
     "output_type": "stream",
     "text": [
      "Total size: 6633\n",
      "# of unique 493\n",
      "# of nans 0\n"
     ]
    }
   ],
   "source": [
    "print_details(apps['date'])"
   ]
  },
  {
   "cell_type": "code",
   "execution_count": null,
   "metadata": {
    "collapsed": true
   },
   "outputs": [],
   "source": []
  }
 ],
 "metadata": {
  "kernelspec": {
   "display_name": "Python 3",
   "language": "python",
   "name": "python3"
  },
  "language_info": {
   "codemirror_mode": {
    "name": "ipython",
    "version": 3
   },
   "file_extension": ".py",
   "mimetype": "text/x-python",
   "name": "python",
   "nbconvert_exporter": "python",
   "pygments_lexer": "ipython3",
   "version": "3.6.2"
  }
 },
 "nbformat": 4,
 "nbformat_minor": 2
}
