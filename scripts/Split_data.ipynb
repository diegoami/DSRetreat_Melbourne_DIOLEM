{
 "cells": [
  {
   "cell_type": "code",
   "execution_count": 1,
   "metadata": {
    "collapsed": true
   },
   "outputs": [],
   "source": [
    "import numpy as np\n",
    "import pandas as pd\n",
    "import os.path\n",
    "%matplotlib inline"
   ]
  },
  {
   "cell_type": "code",
   "execution_count": 5,
   "metadata": {
    "collapsed": true
   },
   "outputs": [],
   "source": [
    "base = '../data/'\n",
    "fdata = 'unimelb_training.csv'\n",
    "ftest = 'training2_ids.csv'\n",
    "fhold = 'testing_ids.csv'\n",
    "df = pd.read_csv(os.path.join(base,fdata), low_memory=False)\n",
    "id_test = pd.read_csv(os.path.join(base,ftest), low_memory=False)\n",
    "id_hold = pd.read_csv(os.path.join(base,fhold), low_memory=False)"
   ]
  },
  {
   "cell_type": "code",
   "execution_count": 6,
   "metadata": {},
   "outputs": [
    {
     "data": {
      "text/html": [
       "<div>\n",
       "<style>\n",
       "    .dataframe thead tr:only-child th {\n",
       "        text-align: right;\n",
       "    }\n",
       "\n",
       "    .dataframe thead th {\n",
       "        text-align: left;\n",
       "    }\n",
       "\n",
       "    .dataframe tbody tr th {\n",
       "        vertical-align: top;\n",
       "    }\n",
       "</style>\n",
       "<table border=\"1\" class=\"dataframe\">\n",
       "  <thead>\n",
       "    <tr style=\"text-align: right;\">\n",
       "      <th></th>\n",
       "      <th>Grant.Application.ID</th>\n",
       "      <th>Grant.Status</th>\n",
       "      <th>Sponsor.Code</th>\n",
       "      <th>Grant.Category.Code</th>\n",
       "      <th>Contract.Value.Band...see.note.A</th>\n",
       "      <th>Start.date</th>\n",
       "      <th>RFCD.Code.1</th>\n",
       "      <th>RFCD.Percentage.1</th>\n",
       "      <th>RFCD.Code.2</th>\n",
       "      <th>RFCD.Percentage.2</th>\n",
       "      <th>...</th>\n",
       "      <th>Faculty.No..15</th>\n",
       "      <th>With.PHD.15</th>\n",
       "      <th>No..of.Years.in.Uni.at.Time.of.Grant.15</th>\n",
       "      <th>Number.of.Successful.Grant.15</th>\n",
       "      <th>Number.of.Unsuccessful.Grant.15</th>\n",
       "      <th>A..15</th>\n",
       "      <th>A.15</th>\n",
       "      <th>B.15</th>\n",
       "      <th>C.15</th>\n",
       "      <th>Unnamed: 251</th>\n",
       "    </tr>\n",
       "  </thead>\n",
       "  <tbody>\n",
       "    <tr>\n",
       "      <th>0</th>\n",
       "      <td>1</td>\n",
       "      <td>1</td>\n",
       "      <td>NaN</td>\n",
       "      <td>NaN</td>\n",
       "      <td>A</td>\n",
       "      <td>8/11/05</td>\n",
       "      <td>280199.0</td>\n",
       "      <td>100.0</td>\n",
       "      <td>0.0</td>\n",
       "      <td>0.0</td>\n",
       "      <td>...</td>\n",
       "      <td>NaN</td>\n",
       "      <td>NaN</td>\n",
       "      <td>NaN</td>\n",
       "      <td>NaN</td>\n",
       "      <td>NaN</td>\n",
       "      <td>NaN</td>\n",
       "      <td>NaN</td>\n",
       "      <td>NaN</td>\n",
       "      <td>NaN</td>\n",
       "      <td>NaN</td>\n",
       "    </tr>\n",
       "    <tr>\n",
       "      <th>1</th>\n",
       "      <td>2</td>\n",
       "      <td>1</td>\n",
       "      <td>2B</td>\n",
       "      <td>10A</td>\n",
       "      <td>B</td>\n",
       "      <td>11/11/05</td>\n",
       "      <td>280103.0</td>\n",
       "      <td>30.0</td>\n",
       "      <td>280106.0</td>\n",
       "      <td>30.0</td>\n",
       "      <td>...</td>\n",
       "      <td>NaN</td>\n",
       "      <td>NaN</td>\n",
       "      <td>NaN</td>\n",
       "      <td>NaN</td>\n",
       "      <td>NaN</td>\n",
       "      <td>NaN</td>\n",
       "      <td>NaN</td>\n",
       "      <td>NaN</td>\n",
       "      <td>NaN</td>\n",
       "      <td>NaN</td>\n",
       "    </tr>\n",
       "    <tr>\n",
       "      <th>2</th>\n",
       "      <td>3</td>\n",
       "      <td>1</td>\n",
       "      <td>29A</td>\n",
       "      <td>10B</td>\n",
       "      <td>A</td>\n",
       "      <td>14/11/05</td>\n",
       "      <td>321004.0</td>\n",
       "      <td>60.0</td>\n",
       "      <td>321216.0</td>\n",
       "      <td>40.0</td>\n",
       "      <td>...</td>\n",
       "      <td>NaN</td>\n",
       "      <td>NaN</td>\n",
       "      <td>NaN</td>\n",
       "      <td>NaN</td>\n",
       "      <td>NaN</td>\n",
       "      <td>NaN</td>\n",
       "      <td>NaN</td>\n",
       "      <td>NaN</td>\n",
       "      <td>NaN</td>\n",
       "      <td>NaN</td>\n",
       "    </tr>\n",
       "    <tr>\n",
       "      <th>3</th>\n",
       "      <td>4</td>\n",
       "      <td>1</td>\n",
       "      <td>40D</td>\n",
       "      <td>10B</td>\n",
       "      <td>C</td>\n",
       "      <td>15/11/05</td>\n",
       "      <td>270602.0</td>\n",
       "      <td>50.0</td>\n",
       "      <td>320602.0</td>\n",
       "      <td>50.0</td>\n",
       "      <td>...</td>\n",
       "      <td>NaN</td>\n",
       "      <td>NaN</td>\n",
       "      <td>NaN</td>\n",
       "      <td>NaN</td>\n",
       "      <td>NaN</td>\n",
       "      <td>NaN</td>\n",
       "      <td>NaN</td>\n",
       "      <td>NaN</td>\n",
       "      <td>NaN</td>\n",
       "      <td>NaN</td>\n",
       "    </tr>\n",
       "    <tr>\n",
       "      <th>4</th>\n",
       "      <td>5</td>\n",
       "      <td>0</td>\n",
       "      <td>59C</td>\n",
       "      <td>10A</td>\n",
       "      <td>A</td>\n",
       "      <td>16/11/05</td>\n",
       "      <td>260500.0</td>\n",
       "      <td>34.0</td>\n",
       "      <td>280000.0</td>\n",
       "      <td>33.0</td>\n",
       "      <td>...</td>\n",
       "      <td>NaN</td>\n",
       "      <td>NaN</td>\n",
       "      <td>NaN</td>\n",
       "      <td>NaN</td>\n",
       "      <td>NaN</td>\n",
       "      <td>NaN</td>\n",
       "      <td>NaN</td>\n",
       "      <td>NaN</td>\n",
       "      <td>NaN</td>\n",
       "      <td>NaN</td>\n",
       "    </tr>\n",
       "  </tbody>\n",
       "</table>\n",
       "<p>5 rows × 252 columns</p>\n",
       "</div>"
      ],
      "text/plain": [
       "   Grant.Application.ID  Grant.Status Sponsor.Code Grant.Category.Code  \\\n",
       "0                     1             1          NaN                 NaN   \n",
       "1                     2             1           2B                 10A   \n",
       "2                     3             1          29A                 10B   \n",
       "3                     4             1          40D                 10B   \n",
       "4                     5             0          59C                 10A   \n",
       "\n",
       "  Contract.Value.Band...see.note.A Start.date  RFCD.Code.1  RFCD.Percentage.1  \\\n",
       "0                               A     8/11/05     280199.0              100.0   \n",
       "1                               B    11/11/05     280103.0               30.0   \n",
       "2                               A    14/11/05     321004.0               60.0   \n",
       "3                               C    15/11/05     270602.0               50.0   \n",
       "4                               A    16/11/05     260500.0               34.0   \n",
       "\n",
       "   RFCD.Code.2  RFCD.Percentage.2      ...       Faculty.No..15  With.PHD.15  \\\n",
       "0          0.0                0.0      ...                  NaN          NaN   \n",
       "1     280106.0               30.0      ...                  NaN          NaN   \n",
       "2     321216.0               40.0      ...                  NaN          NaN   \n",
       "3     320602.0               50.0      ...                  NaN          NaN   \n",
       "4     280000.0               33.0      ...                  NaN          NaN   \n",
       "\n",
       "   No..of.Years.in.Uni.at.Time.of.Grant.15  Number.of.Successful.Grant.15  \\\n",
       "0                                      NaN                            NaN   \n",
       "1                                      NaN                            NaN   \n",
       "2                                      NaN                            NaN   \n",
       "3                                      NaN                            NaN   \n",
       "4                                      NaN                            NaN   \n",
       "\n",
       "   Number.of.Unsuccessful.Grant.15  A..15  A.15  B.15  C.15  Unnamed: 251  \n",
       "0                              NaN    NaN   NaN   NaN   NaN           NaN  \n",
       "1                              NaN    NaN   NaN   NaN   NaN           NaN  \n",
       "2                              NaN    NaN   NaN   NaN   NaN           NaN  \n",
       "3                              NaN    NaN   NaN   NaN   NaN           NaN  \n",
       "4                              NaN    NaN   NaN   NaN   NaN           NaN  \n",
       "\n",
       "[5 rows x 252 columns]"
      ]
     },
     "execution_count": 6,
     "metadata": {},
     "output_type": "execute_result"
    }
   ],
   "source": [
    "df.head()"
   ]
  },
  {
   "cell_type": "code",
   "execution_count": 9,
   "metadata": {},
   "outputs": [
    {
     "name": "stdout",
     "output_type": "stream",
     "text": [
      "<class 'pandas.core.frame.DataFrame'>\n",
      "RangeIndex: 518 entries, 0 to 517\n",
      "Data columns (total 1 columns):\n",
      "ids    518 non-null int64\n",
      "dtypes: int64(1)\n",
      "memory usage: 4.1 KB\n"
     ]
    }
   ],
   "source": [
    "id_hold.info()"
   ]
  },
  {
   "cell_type": "code",
   "execution_count": 10,
   "metadata": {},
   "outputs": [
    {
     "name": "stdout",
     "output_type": "stream",
     "text": [
      "<class 'pandas.core.frame.DataFrame'>\n",
      "RangeIndex: 1557 entries, 0 to 1556\n",
      "Data columns (total 1 columns):\n",
      "ids    1557 non-null int64\n",
      "dtypes: int64(1)\n",
      "memory usage: 12.2 KB\n"
     ]
    }
   ],
   "source": [
    "id_test.info()"
   ]
  },
  {
   "cell_type": "code",
   "execution_count": 30,
   "metadata": {},
   "outputs": [],
   "source": [
    "test = df.loc[df['Grant.Application.ID'].isin(id_test.values.flatten()),:]\n",
    "hold = df.loc[df['Grant.Application.ID'].isin(id_hold.values.flatten()),:]"
   ]
  },
  {
   "cell_type": "markdown",
   "metadata": {},
   "source": [
    "## check if any of the hold ids is in the test ids"
   ]
  },
  {
   "cell_type": "code",
   "execution_count": 36,
   "metadata": {},
   "outputs": [
    {
     "data": {
      "text/plain": [
       "ids    0\n",
       "dtype: int64"
      ]
     },
     "execution_count": 36,
     "metadata": {},
     "output_type": "execute_result"
    }
   ],
   "source": [
    "(id_test.isin(id_hold.values.flatten())).sum()"
   ]
  },
  {
   "cell_type": "code",
   "execution_count": 89,
   "metadata": {},
   "outputs": [
    {
     "name": "stdout",
     "output_type": "stream",
     "text": [
      "(8708, 252)\n"
     ]
    },
    {
     "data": {
      "text/plain": [
       "(8706, 252)"
      ]
     },
     "execution_count": 89,
     "metadata": {},
     "output_type": "execute_result"
    }
   ],
   "source": [
    "# create train data\n",
    "train = df.copy()\n",
    "drop_ids = np.r_[id_test.values.flatten(),id_hold.values.flatten()]\n",
    "print(train.shape)\n",
    "train.drop(\n",
    "    train['Grant.Application.ID'].isin(drop_ids),axis=0).shape\n",
    "# print(train.shape)"
   ]
  },
  {
   "cell_type": "code",
   "execution_count": 73,
   "metadata": {},
   "outputs": [
    {
     "name": "stdout",
     "output_type": "stream",
     "text": [
      "size of test data: (1557, 252)\n",
      "size of hold data: (518, 252)\n",
      "size of train data: (8706, 252)\n"
     ]
    }
   ],
   "source": [
    "print('size of test data: {}\\nsize of hold data: {}\\nsize of train data: {}'.format((test.shape),hold.shape, train.shape))"
   ]
  },
  {
   "cell_type": "code",
   "execution_count": 82,
   "metadata": {},
   "outputs": [
    {
     "ename": "ValueError",
     "evalue": "labels [False False False ...,  True  True  True] not contained in axis",
     "output_type": "error",
     "traceback": [
      "\u001b[0;31m---------------------------------------------------------------------------\u001b[0m",
      "\u001b[0;31mValueError\u001b[0m                                Traceback (most recent call last)",
      "\u001b[0;32m<ipython-input-82-ed0b622038ab>\u001b[0m in \u001b[0;36m<module>\u001b[0;34m()\u001b[0m\n\u001b[1;32m      1\u001b[0m train.drop(\n\u001b[0;32m----> 2\u001b[0;31m     train['Grant.Application.ID'].isin(drop_ids),axis=1,inplace=True)\n\u001b[0m",
      "\u001b[0;32m~/software/miniconda3/lib/python3.6/site-packages/pandas/core/generic.py\u001b[0m in \u001b[0;36mdrop\u001b[0;34m(self, labels, axis, level, inplace, errors)\u001b[0m\n\u001b[1;32m   2159\u001b[0m                 \u001b[0mnew_axis\u001b[0m \u001b[0;34m=\u001b[0m \u001b[0maxis\u001b[0m\u001b[0;34m.\u001b[0m\u001b[0mdrop\u001b[0m\u001b[0;34m(\u001b[0m\u001b[0mlabels\u001b[0m\u001b[0;34m,\u001b[0m \u001b[0mlevel\u001b[0m\u001b[0;34m=\u001b[0m\u001b[0mlevel\u001b[0m\u001b[0;34m,\u001b[0m \u001b[0merrors\u001b[0m\u001b[0;34m=\u001b[0m\u001b[0merrors\u001b[0m\u001b[0;34m)\u001b[0m\u001b[0;34m\u001b[0m\u001b[0m\n\u001b[1;32m   2160\u001b[0m             \u001b[0;32melse\u001b[0m\u001b[0;34m:\u001b[0m\u001b[0;34m\u001b[0m\u001b[0m\n\u001b[0;32m-> 2161\u001b[0;31m                 \u001b[0mnew_axis\u001b[0m \u001b[0;34m=\u001b[0m \u001b[0maxis\u001b[0m\u001b[0;34m.\u001b[0m\u001b[0mdrop\u001b[0m\u001b[0;34m(\u001b[0m\u001b[0mlabels\u001b[0m\u001b[0;34m,\u001b[0m \u001b[0merrors\u001b[0m\u001b[0;34m=\u001b[0m\u001b[0merrors\u001b[0m\u001b[0;34m)\u001b[0m\u001b[0;34m\u001b[0m\u001b[0m\n\u001b[0m\u001b[1;32m   2162\u001b[0m             \u001b[0mdropped\u001b[0m \u001b[0;34m=\u001b[0m \u001b[0mself\u001b[0m\u001b[0;34m.\u001b[0m\u001b[0mreindex\u001b[0m\u001b[0;34m(\u001b[0m\u001b[0;34m**\u001b[0m\u001b[0;34m{\u001b[0m\u001b[0maxis_name\u001b[0m\u001b[0;34m:\u001b[0m \u001b[0mnew_axis\u001b[0m\u001b[0;34m}\u001b[0m\u001b[0;34m)\u001b[0m\u001b[0;34m\u001b[0m\u001b[0m\n\u001b[1;32m   2163\u001b[0m             \u001b[0;32mtry\u001b[0m\u001b[0;34m:\u001b[0m\u001b[0;34m\u001b[0m\u001b[0m\n",
      "\u001b[0;32m~/software/miniconda3/lib/python3.6/site-packages/pandas/core/indexes/base.py\u001b[0m in \u001b[0;36mdrop\u001b[0;34m(self, labels, errors)\u001b[0m\n\u001b[1;32m   3622\u001b[0m             \u001b[0;32mif\u001b[0m \u001b[0merrors\u001b[0m \u001b[0;34m!=\u001b[0m \u001b[0;34m'ignore'\u001b[0m\u001b[0;34m:\u001b[0m\u001b[0;34m\u001b[0m\u001b[0m\n\u001b[1;32m   3623\u001b[0m                 raise ValueError('labels %s not contained in axis' %\n\u001b[0;32m-> 3624\u001b[0;31m                                  labels[mask])\n\u001b[0m\u001b[1;32m   3625\u001b[0m             \u001b[0mindexer\u001b[0m \u001b[0;34m=\u001b[0m \u001b[0mindexer\u001b[0m\u001b[0;34m[\u001b[0m\u001b[0;34m~\u001b[0m\u001b[0mmask\u001b[0m\u001b[0;34m]\u001b[0m\u001b[0;34m\u001b[0m\u001b[0m\n\u001b[1;32m   3626\u001b[0m         \u001b[0;32mreturn\u001b[0m \u001b[0mself\u001b[0m\u001b[0;34m.\u001b[0m\u001b[0mdelete\u001b[0m\u001b[0;34m(\u001b[0m\u001b[0mindexer\u001b[0m\u001b[0;34m)\u001b[0m\u001b[0;34m\u001b[0m\u001b[0m\n",
      "\u001b[0;31mValueError\u001b[0m: labels [False False False ...,  True  True  True] not contained in axis"
     ]
    }
   ],
   "source": [
    "train.drop(\n",
    "    train['Grant.Application.ID'].isin(drop_ids),axis=1,inplace=True)"
   ]
  },
  {
   "cell_type": "code",
   "execution_count": 58,
   "metadata": {},
   "outputs": [],
   "source": [
    "drop_ids = np.r_[id_test.values.flatten(),id_hold.values.flatten()]"
   ]
  },
  {
   "cell_type": "code",
   "execution_count": 59,
   "metadata": {},
   "outputs": [
    {
     "data": {
      "text/plain": [
       "(2075,)"
      ]
     },
     "execution_count": 59,
     "metadata": {},
     "output_type": "execute_result"
    }
   ],
   "source": [
    "drop_ids.shape"
   ]
  },
  {
   "cell_type": "code",
   "execution_count": 81,
   "metadata": {},
   "outputs": [
    {
     "data": {
      "text/plain": [
       "2       False\n",
       "3       False\n",
       "4       False\n",
       "5       False\n",
       "6       False\n",
       "7       False\n",
       "8       False\n",
       "9       False\n",
       "10      False\n",
       "11      False\n",
       "12      False\n",
       "13      False\n",
       "14      False\n",
       "15      False\n",
       "16      False\n",
       "17      False\n",
       "18      False\n",
       "19      False\n",
       "20      False\n",
       "21      False\n",
       "22      False\n",
       "23      False\n",
       "24      False\n",
       "25      False\n",
       "26      False\n",
       "27      False\n",
       "28      False\n",
       "29      False\n",
       "30      False\n",
       "31      False\n",
       "        ...  \n",
       "8678     True\n",
       "8679     True\n",
       "8680     True\n",
       "8681     True\n",
       "8682     True\n",
       "8683     True\n",
       "8684     True\n",
       "8685     True\n",
       "8686     True\n",
       "8687     True\n",
       "8688     True\n",
       "8689     True\n",
       "8690     True\n",
       "8691     True\n",
       "8692     True\n",
       "8693     True\n",
       "8694     True\n",
       "8695     True\n",
       "8696     True\n",
       "8697     True\n",
       "8698     True\n",
       "8699     True\n",
       "8700     True\n",
       "8701     True\n",
       "8702     True\n",
       "8703     True\n",
       "8704     True\n",
       "8705     True\n",
       "8706     True\n",
       "8707     True\n",
       "Name: Grant.Application.ID, Length: 8706, dtype: bool"
      ]
     },
     "execution_count": 81,
     "metadata": {},
     "output_type": "execute_result"
    }
   ],
   "source": [
    "\n",
    "train['Grant.Application.ID'].isin(drop_ids)"
   ]
  },
  {
   "cell_type": "code",
   "execution_count": null,
   "metadata": {
    "collapsed": true
   },
   "outputs": [],
   "source": []
  }
 ],
 "metadata": {
  "kernelspec": {
   "display_name": "Python 3",
   "language": "python",
   "name": "python3"
  },
  "language_info": {
   "codemirror_mode": {
    "name": "ipython",
    "version": 3
   },
   "file_extension": ".py",
   "mimetype": "text/x-python",
   "name": "python",
   "nbconvert_exporter": "python",
   "pygments_lexer": "ipython3",
   "version": "3.6.2"
  }
 },
 "nbformat": 4,
 "nbformat_minor": 2
}
