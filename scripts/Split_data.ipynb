{
 "cells": [
  {
   "cell_type": "code",
   "execution_count": 1,
   "metadata": {
    "collapsed": true
   },
   "outputs": [],
   "source": [
    "import numpy as np\n",
    "import pandas as pd\n",
    "import os.path\n",
    "%matplotlib inline"
   ]
  },
  {
   "cell_type": "code",
   "execution_count": 5,
   "metadata": {
    "collapsed": true
   },
   "outputs": [],
   "source": [
    "base = '../data/'\n",
    "fdata = 'unimelb_training.csv'\n",
    "ftest = 'training2_ids.csv'\n",
    "fhold = 'testing_ids.csv'\n",
    "df = pd.read_csv(os.path.join(base,fdata), low_memory=False)\n",
    "id_test = pd.read_csv(os.path.join(base,ftest), low_memory=False)\n",
    "id_hold = pd.read_csv(os.path.join(base,fhold), low_memory=False)"
   ]
  },
  {
   "cell_type": "markdown",
   "metadata": {},
   "source": [
    "rename first couple of columns"
   ]
  },
  {
   "cell_type": "code",
   "execution_count": 135,
   "metadata": {},
   "outputs": [],
   "source": [
    "ren = {'Grant.Application.ID':'id',\n",
    "       'Grant.Status':'granted',\n",
    "       'Sponsor.Code':'sponsor',\n",
    "      'Grant.Category.Code':'grant_category',\n",
    "       'Contract.Value.Band...see.note.A':'grant_value',\n",
    "       'Start.date':'date'\n",
    "      }"
   ]
  },
  {
   "cell_type": "code",
   "execution_count": 30,
   "metadata": {},
   "outputs": [],
   "source": [
    "test = df.loc[df['Grant.Application.ID'].isin(id_test.values.flatten()),:]\n",
    "hold = df.loc[df['Grant.Application.ID'].isin(id_hold.values.flatten()),:]"
   ]
  },
  {
   "cell_type": "markdown",
   "metadata": {},
   "source": [
    "## check if any of the hold ids is in the test ids"
   ]
  },
  {
   "cell_type": "code",
   "execution_count": 36,
   "metadata": {},
   "outputs": [
    {
     "data": {
      "text/plain": [
       "ids    0\n",
       "dtype: int64"
      ]
     },
     "execution_count": 36,
     "metadata": {},
     "output_type": "execute_result"
    }
   ],
   "source": [
    "(id_test.isin(id_hold.values.flatten())).sum()"
   ]
  },
  {
   "cell_type": "code",
   "execution_count": 120,
   "metadata": {},
   "outputs": [
    {
     "name": "stdout",
     "output_type": "stream",
     "text": [
      "(8708, 252)\n",
      "(6633, 252)\n"
     ]
    }
   ],
   "source": [
    "# create train data\n",
    "train = df.copy()\n",
    "drop_ids = np.r_[id_test.values.flatten(),id_hold.values.flatten()]\n",
    "mask = train['Grant.Application.ID'].isin(drop_ids)\n",
    "print(train.shape)\n",
    "train.drop(\n",
    "    (train.loc[mask,'Grant.Application.ID']).index,axis=0,inplace=True)\n",
    "print(train.shape)"
   ]
  },
  {
   "cell_type": "code",
   "execution_count": 121,
   "metadata": {},
   "outputs": [
    {
     "name": "stdout",
     "output_type": "stream",
     "text": [
      "size of test data: (1557, 252)\n",
      "size of hold data: (518, 252)\n",
      "size of train data: (6633, 252)\n"
     ]
    }
   ],
   "source": [
    "print('size of test data: {}\\nsize of hold data: {}\\nsize of train data: {}'.format((test.shape),hold.shape, train.shape))"
   ]
  },
  {
   "cell_type": "markdown",
   "metadata": {},
   "source": [
    "## Save file:"
   ]
  },
  {
   "cell_type": "code",
   "execution_count": 140,
   "metadata": {
    "collapsed": true
   },
   "outputs": [],
   "source": [
    "base = '../data/'\n",
    "ftrain = 'train.csv'\n",
    "ftest = 'test.csv'\n",
    "fhold = 'hold.csv'\n",
    "\n",
    "test.to_csv(os.path.join(base,ftrain))\n",
    "test.to_csv(os.path.join(base,ftest))\n",
    "test.to_csv(os.path.join(base,fhold))"
   ]
  },
  {
   "cell_type": "code",
   "execution_count": null,
   "metadata": {
    "collapsed": true
   },
   "outputs": [],
   "source": []
  }
 ],
 "metadata": {
  "kernelspec": {
   "display_name": "Python 3",
   "language": "python",
   "name": "python3"
  },
  "language_info": {
   "codemirror_mode": {
    "name": "ipython",
    "version": 3
   },
   "file_extension": ".py",
   "mimetype": "text/x-python",
   "name": "python",
   "nbconvert_exporter": "python",
   "pygments_lexer": "ipython3",
   "version": "3.6.2"
  }
 },
 "nbformat": 4,
 "nbformat_minor": 2
}
