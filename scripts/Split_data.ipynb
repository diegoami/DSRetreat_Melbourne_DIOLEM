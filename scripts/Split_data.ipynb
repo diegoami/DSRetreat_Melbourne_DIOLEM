{
 "cells": [
  {
   "cell_type": "code",
   "execution_count": 89,
   "metadata": {
    "collapsed": true
   },
   "outputs": [],
   "source": [
    "import numpy as np\n",
    "import pandas as pd\n",
    "import os.path\n",
    "%matplotlib inline"
   ]
  },
  {
   "cell_type": "code",
   "execution_count": 90,
   "metadata": {
    "collapsed": true
   },
   "outputs": [],
   "source": [
    "base = '../data/'\n",
    "fdata = 'unimelb_training.csv'\n",
    "ftest = 'training2_ids.csv'\n",
    "fhold = 'testing_ids.csv'\n",
    "df = pd.read_csv(os.path.join(base,fdata), low_memory=False)\n",
    "id_test = pd.read_csv(os.path.join(base,ftest), low_memory=False)\n",
    "id_hold = pd.read_csv(os.path.join(base,fhold), low_memory=False)"
   ]
  },
  {
   "cell_type": "code",
   "execution_count": 91,
   "metadata": {},
   "outputs": [
    {
     "data": {
      "text/plain": [
       "0"
      ]
     },
     "execution_count": 91,
     "metadata": {},
     "output_type": "execute_result"
    }
   ],
   "source": [
    "df['Unnamed: 251'].notnull().sum()"
   ]
  },
  {
   "cell_type": "code",
   "execution_count": 92,
   "metadata": {},
   "outputs": [
    {
     "data": {
      "text/plain": [
       "(8708, 252)"
      ]
     },
     "execution_count": 92,
     "metadata": {},
     "output_type": "execute_result"
    }
   ],
   "source": [
    "df.shape"
   ]
  },
  {
   "cell_type": "markdown",
   "metadata": {},
   "source": [
    "There is one empty column at the end "
   ]
  },
  {
   "cell_type": "code",
   "execution_count": 93,
   "metadata": {},
   "outputs": [],
   "source": [
    "df.drop(['Unnamed: 251'],axis=1,inplace=True)"
   ]
  },
  {
   "cell_type": "code",
   "execution_count": 94,
   "metadata": {},
   "outputs": [
    {
     "data": {
      "text/html": [
       "<div>\n",
       "<style>\n",
       "    .dataframe thead tr:only-child th {\n",
       "        text-align: right;\n",
       "    }\n",
       "\n",
       "    .dataframe thead th {\n",
       "        text-align: left;\n",
       "    }\n",
       "\n",
       "    .dataframe tbody tr th {\n",
       "        vertical-align: top;\n",
       "    }\n",
       "</style>\n",
       "<table border=\"1\" class=\"dataframe\">\n",
       "  <thead>\n",
       "    <tr style=\"text-align: right;\">\n",
       "      <th></th>\n",
       "      <th>Grant.Application.ID</th>\n",
       "      <th>Grant.Status</th>\n",
       "      <th>Sponsor.Code</th>\n",
       "      <th>Grant.Category.Code</th>\n",
       "      <th>Contract.Value.Band...see.note.A</th>\n",
       "      <th>Start.date</th>\n",
       "      <th>RFCD.Code.1</th>\n",
       "      <th>RFCD.Percentage.1</th>\n",
       "      <th>RFCD.Code.2</th>\n",
       "      <th>RFCD.Percentage.2</th>\n",
       "      <th>...</th>\n",
       "      <th>Dept.No..15</th>\n",
       "      <th>Faculty.No..15</th>\n",
       "      <th>With.PHD.15</th>\n",
       "      <th>No..of.Years.in.Uni.at.Time.of.Grant.15</th>\n",
       "      <th>Number.of.Successful.Grant.15</th>\n",
       "      <th>Number.of.Unsuccessful.Grant.15</th>\n",
       "      <th>A..15</th>\n",
       "      <th>A.15</th>\n",
       "      <th>B.15</th>\n",
       "      <th>C.15</th>\n",
       "    </tr>\n",
       "  </thead>\n",
       "  <tbody>\n",
       "    <tr>\n",
       "      <th>0</th>\n",
       "      <td>1</td>\n",
       "      <td>1</td>\n",
       "      <td>NaN</td>\n",
       "      <td>NaN</td>\n",
       "      <td>A</td>\n",
       "      <td>8/11/05</td>\n",
       "      <td>280199.0</td>\n",
       "      <td>100.0</td>\n",
       "      <td>0.0</td>\n",
       "      <td>0.0</td>\n",
       "      <td>...</td>\n",
       "      <td>NaN</td>\n",
       "      <td>NaN</td>\n",
       "      <td>NaN</td>\n",
       "      <td>NaN</td>\n",
       "      <td>NaN</td>\n",
       "      <td>NaN</td>\n",
       "      <td>NaN</td>\n",
       "      <td>NaN</td>\n",
       "      <td>NaN</td>\n",
       "      <td>NaN</td>\n",
       "    </tr>\n",
       "    <tr>\n",
       "      <th>1</th>\n",
       "      <td>2</td>\n",
       "      <td>1</td>\n",
       "      <td>2B</td>\n",
       "      <td>10A</td>\n",
       "      <td>B</td>\n",
       "      <td>11/11/05</td>\n",
       "      <td>280103.0</td>\n",
       "      <td>30.0</td>\n",
       "      <td>280106.0</td>\n",
       "      <td>30.0</td>\n",
       "      <td>...</td>\n",
       "      <td>NaN</td>\n",
       "      <td>NaN</td>\n",
       "      <td>NaN</td>\n",
       "      <td>NaN</td>\n",
       "      <td>NaN</td>\n",
       "      <td>NaN</td>\n",
       "      <td>NaN</td>\n",
       "      <td>NaN</td>\n",
       "      <td>NaN</td>\n",
       "      <td>NaN</td>\n",
       "    </tr>\n",
       "    <tr>\n",
       "      <th>2</th>\n",
       "      <td>3</td>\n",
       "      <td>1</td>\n",
       "      <td>29A</td>\n",
       "      <td>10B</td>\n",
       "      <td>A</td>\n",
       "      <td>14/11/05</td>\n",
       "      <td>321004.0</td>\n",
       "      <td>60.0</td>\n",
       "      <td>321216.0</td>\n",
       "      <td>40.0</td>\n",
       "      <td>...</td>\n",
       "      <td>NaN</td>\n",
       "      <td>NaN</td>\n",
       "      <td>NaN</td>\n",
       "      <td>NaN</td>\n",
       "      <td>NaN</td>\n",
       "      <td>NaN</td>\n",
       "      <td>NaN</td>\n",
       "      <td>NaN</td>\n",
       "      <td>NaN</td>\n",
       "      <td>NaN</td>\n",
       "    </tr>\n",
       "    <tr>\n",
       "      <th>3</th>\n",
       "      <td>4</td>\n",
       "      <td>1</td>\n",
       "      <td>40D</td>\n",
       "      <td>10B</td>\n",
       "      <td>C</td>\n",
       "      <td>15/11/05</td>\n",
       "      <td>270602.0</td>\n",
       "      <td>50.0</td>\n",
       "      <td>320602.0</td>\n",
       "      <td>50.0</td>\n",
       "      <td>...</td>\n",
       "      <td>NaN</td>\n",
       "      <td>NaN</td>\n",
       "      <td>NaN</td>\n",
       "      <td>NaN</td>\n",
       "      <td>NaN</td>\n",
       "      <td>NaN</td>\n",
       "      <td>NaN</td>\n",
       "      <td>NaN</td>\n",
       "      <td>NaN</td>\n",
       "      <td>NaN</td>\n",
       "    </tr>\n",
       "    <tr>\n",
       "      <th>4</th>\n",
       "      <td>5</td>\n",
       "      <td>0</td>\n",
       "      <td>59C</td>\n",
       "      <td>10A</td>\n",
       "      <td>A</td>\n",
       "      <td>16/11/05</td>\n",
       "      <td>260500.0</td>\n",
       "      <td>34.0</td>\n",
       "      <td>280000.0</td>\n",
       "      <td>33.0</td>\n",
       "      <td>...</td>\n",
       "      <td>NaN</td>\n",
       "      <td>NaN</td>\n",
       "      <td>NaN</td>\n",
       "      <td>NaN</td>\n",
       "      <td>NaN</td>\n",
       "      <td>NaN</td>\n",
       "      <td>NaN</td>\n",
       "      <td>NaN</td>\n",
       "      <td>NaN</td>\n",
       "      <td>NaN</td>\n",
       "    </tr>\n",
       "  </tbody>\n",
       "</table>\n",
       "<p>5 rows × 251 columns</p>\n",
       "</div>"
      ],
      "text/plain": [
       "   Grant.Application.ID  Grant.Status Sponsor.Code Grant.Category.Code  \\\n",
       "0                     1             1          NaN                 NaN   \n",
       "1                     2             1           2B                 10A   \n",
       "2                     3             1          29A                 10B   \n",
       "3                     4             1          40D                 10B   \n",
       "4                     5             0          59C                 10A   \n",
       "\n",
       "  Contract.Value.Band...see.note.A Start.date  RFCD.Code.1  RFCD.Percentage.1  \\\n",
       "0                               A     8/11/05     280199.0              100.0   \n",
       "1                               B    11/11/05     280103.0               30.0   \n",
       "2                               A    14/11/05     321004.0               60.0   \n",
       "3                               C    15/11/05     270602.0               50.0   \n",
       "4                               A    16/11/05     260500.0               34.0   \n",
       "\n",
       "   RFCD.Code.2  RFCD.Percentage.2  ...   Dept.No..15  Faculty.No..15  \\\n",
       "0          0.0                0.0  ...           NaN             NaN   \n",
       "1     280106.0               30.0  ...           NaN             NaN   \n",
       "2     321216.0               40.0  ...           NaN             NaN   \n",
       "3     320602.0               50.0  ...           NaN             NaN   \n",
       "4     280000.0               33.0  ...           NaN             NaN   \n",
       "\n",
       "   With.PHD.15  No..of.Years.in.Uni.at.Time.of.Grant.15  \\\n",
       "0          NaN                                      NaN   \n",
       "1          NaN                                      NaN   \n",
       "2          NaN                                      NaN   \n",
       "3          NaN                                      NaN   \n",
       "4          NaN                                      NaN   \n",
       "\n",
       "   Number.of.Successful.Grant.15  Number.of.Unsuccessful.Grant.15  A..15  \\\n",
       "0                            NaN                              NaN    NaN   \n",
       "1                            NaN                              NaN    NaN   \n",
       "2                            NaN                              NaN    NaN   \n",
       "3                            NaN                              NaN    NaN   \n",
       "4                            NaN                              NaN    NaN   \n",
       "\n",
       "   A.15  B.15  C.15  \n",
       "0   NaN   NaN   NaN  \n",
       "1   NaN   NaN   NaN  \n",
       "2   NaN   NaN   NaN  \n",
       "3   NaN   NaN   NaN  \n",
       "4   NaN   NaN   NaN  \n",
       "\n",
       "[5 rows x 251 columns]"
      ]
     },
     "execution_count": 94,
     "metadata": {},
     "output_type": "execute_result"
    }
   ],
   "source": [
    "df.head()"
   ]
  },
  {
   "cell_type": "markdown",
   "metadata": {},
   "source": [
    "rename first couple of columns"
   ]
  },
  {
   "cell_type": "code",
   "execution_count": 95,
   "metadata": {
    "collapsed": true
   },
   "outputs": [],
   "source": [
    "ren = {'Grant.Application.ID':'id',\n",
    "       'Grant.Status':'granted',\n",
    "       'Sponsor.Code':'sponsor',\n",
    "      'Grant.Category.Code':'grant_category',\n",
    "       'Contract.Value.Band...see.note.A':'grant_value',\n",
    "       'Start.date':'date'\n",
    "      }"
   ]
  },
  {
   "cell_type": "code",
   "execution_count": 96,
   "metadata": {},
   "outputs": [],
   "source": [
    "df.rename(columns=ren,inplace = True)"
   ]
  },
  {
   "cell_type": "code",
   "execution_count": 97,
   "metadata": {},
   "outputs": [],
   "source": [
    "test = df.loc[df['id'].isin(id_test.values.flatten()),:]\n",
    "hold = df.loc[df['id'].isin(id_hold.values.flatten()),:]"
   ]
  },
  {
   "cell_type": "markdown",
   "metadata": {},
   "source": [
    "## check if any of the hold ids is in the test ids"
   ]
  },
  {
   "cell_type": "code",
   "execution_count": 98,
   "metadata": {},
   "outputs": [
    {
     "data": {
      "text/plain": [
       "ids    0\n",
       "dtype: int64"
      ]
     },
     "execution_count": 98,
     "metadata": {},
     "output_type": "execute_result"
    }
   ],
   "source": [
    "(id_test.isin(id_hold.values.flatten())).sum()"
   ]
  },
  {
   "cell_type": "code",
   "execution_count": 99,
   "metadata": {},
   "outputs": [
    {
     "name": "stdout",
     "output_type": "stream",
     "text": [
      "(8708, 251)\n",
      "(6633, 251)\n"
     ]
    }
   ],
   "source": [
    "# create train data\n",
    "train = df.copy()\n",
    "drop_ids = np.r_[id_test.values.flatten(),id_hold.values.flatten()]\n",
    "mask = train['id'].isin(drop_ids)\n",
    "print(train.shape)\n",
    "train.drop(\n",
    "    (train.loc[mask,'id']).index,axis=0,inplace=True)\n",
    "print(train.shape)"
   ]
  },
  {
   "cell_type": "code",
   "execution_count": 100,
   "metadata": {},
   "outputs": [
    {
     "name": "stdout",
     "output_type": "stream",
     "text": [
      "size of test data: (1557, 251)\n",
      "size of hold data: (518, 251)\n",
      "size of train data: (6633, 251)\n"
     ]
    }
   ],
   "source": [
    "print('size of test data: {}\\nsize of hold data: {}\\nsize of train data: {}'.format((test.shape),hold.shape, train.shape))"
   ]
  },
  {
   "cell_type": "markdown",
   "metadata": {},
   "source": [
    "## Save file:"
   ]
  },
  {
   "cell_type": "code",
   "execution_count": 101,
   "metadata": {
    "collapsed": true
   },
   "outputs": [],
   "source": [
    "base = '../data/'\n",
    "ftrain = 'train.csv'\n",
    "ftest = 'test.csv'\n",
    "fhold = 'hold.csv'\n",
    "\n",
    "train.to_csv(os.path.join(base,ftrain),index=False)\n",
    "test.to_csv(os.path.join(base,ftest),index=False)\n",
    "hold.to_csv(os.path.join(base,fhold),index=False)"
   ]
  },
  {
   "cell_type": "code",
   "execution_count": null,
   "metadata": {},
   "outputs": [
    {
     "data": {
      "text/html": [
       "<div>\n",
       "<style>\n",
       "    .dataframe thead tr:only-child th {\n",
       "        text-align: right;\n",
       "    }\n",
       "\n",
       "    .dataframe thead th {\n",
       "        text-align: left;\n",
       "    }\n",
       "\n",
       "    .dataframe tbody tr th {\n",
       "        vertical-align: top;\n",
       "    }\n",
       "</style>\n",
       "<table border=\"1\" class=\"dataframe\">\n",
       "  <thead>\n",
       "    <tr style=\"text-align: right;\">\n",
       "      <th></th>\n",
       "      <th>id</th>\n",
       "      <th>granted</th>\n",
       "      <th>sponsor</th>\n",
       "      <th>grant_category</th>\n",
       "      <th>grant_value</th>\n",
       "      <th>date</th>\n",
       "      <th>RFCD.Code.1</th>\n",
       "      <th>RFCD.Percentage.1</th>\n",
       "      <th>RFCD.Code.2</th>\n",
       "      <th>RFCD.Percentage.2</th>\n",
       "      <th>...</th>\n",
       "      <th>Dept.No..15</th>\n",
       "      <th>Faculty.No..15</th>\n",
       "      <th>With.PHD.15</th>\n",
       "      <th>No..of.Years.in.Uni.at.Time.of.Grant.15</th>\n",
       "      <th>Number.of.Successful.Grant.15</th>\n",
       "      <th>Number.of.Unsuccessful.Grant.15</th>\n",
       "      <th>A..15</th>\n",
       "      <th>A.15</th>\n",
       "      <th>B.15</th>\n",
       "      <th>C.15</th>\n",
       "    </tr>\n",
       "  </thead>\n",
       "  <tbody>\n",
       "    <tr>\n",
       "      <th>0</th>\n",
       "      <td>1</td>\n",
       "      <td>1</td>\n",
       "      <td>NaN</td>\n",
       "      <td>NaN</td>\n",
       "      <td>A</td>\n",
       "      <td>8/11/05</td>\n",
       "      <td>280199.0</td>\n",
       "      <td>100.0</td>\n",
       "      <td>0.0</td>\n",
       "      <td>0.0</td>\n",
       "      <td>...</td>\n",
       "      <td>NaN</td>\n",
       "      <td>NaN</td>\n",
       "      <td>NaN</td>\n",
       "      <td>NaN</td>\n",
       "      <td>NaN</td>\n",
       "      <td>NaN</td>\n",
       "      <td>NaN</td>\n",
       "      <td>NaN</td>\n",
       "      <td>NaN</td>\n",
       "      <td>NaN</td>\n",
       "    </tr>\n",
       "    <tr>\n",
       "      <th>1</th>\n",
       "      <td>2</td>\n",
       "      <td>1</td>\n",
       "      <td>2B</td>\n",
       "      <td>10A</td>\n",
       "      <td>B</td>\n",
       "      <td>11/11/05</td>\n",
       "      <td>280103.0</td>\n",
       "      <td>30.0</td>\n",
       "      <td>280106.0</td>\n",
       "      <td>30.0</td>\n",
       "      <td>...</td>\n",
       "      <td>NaN</td>\n",
       "      <td>NaN</td>\n",
       "      <td>NaN</td>\n",
       "      <td>NaN</td>\n",
       "      <td>NaN</td>\n",
       "      <td>NaN</td>\n",
       "      <td>NaN</td>\n",
       "      <td>NaN</td>\n",
       "      <td>NaN</td>\n",
       "      <td>NaN</td>\n",
       "    </tr>\n",
       "    <tr>\n",
       "      <th>2</th>\n",
       "      <td>3</td>\n",
       "      <td>1</td>\n",
       "      <td>29A</td>\n",
       "      <td>10B</td>\n",
       "      <td>A</td>\n",
       "      <td>14/11/05</td>\n",
       "      <td>321004.0</td>\n",
       "      <td>60.0</td>\n",
       "      <td>321216.0</td>\n",
       "      <td>40.0</td>\n",
       "      <td>...</td>\n",
       "      <td>NaN</td>\n",
       "      <td>NaN</td>\n",
       "      <td>NaN</td>\n",
       "      <td>NaN</td>\n",
       "      <td>NaN</td>\n",
       "      <td>NaN</td>\n",
       "      <td>NaN</td>\n",
       "      <td>NaN</td>\n",
       "      <td>NaN</td>\n",
       "      <td>NaN</td>\n",
       "    </tr>\n",
       "    <tr>\n",
       "      <th>3</th>\n",
       "      <td>4</td>\n",
       "      <td>1</td>\n",
       "      <td>40D</td>\n",
       "      <td>10B</td>\n",
       "      <td>C</td>\n",
       "      <td>15/11/05</td>\n",
       "      <td>270602.0</td>\n",
       "      <td>50.0</td>\n",
       "      <td>320602.0</td>\n",
       "      <td>50.0</td>\n",
       "      <td>...</td>\n",
       "      <td>NaN</td>\n",
       "      <td>NaN</td>\n",
       "      <td>NaN</td>\n",
       "      <td>NaN</td>\n",
       "      <td>NaN</td>\n",
       "      <td>NaN</td>\n",
       "      <td>NaN</td>\n",
       "      <td>NaN</td>\n",
       "      <td>NaN</td>\n",
       "      <td>NaN</td>\n",
       "    </tr>\n",
       "    <tr>\n",
       "      <th>4</th>\n",
       "      <td>5</td>\n",
       "      <td>0</td>\n",
       "      <td>59C</td>\n",
       "      <td>10A</td>\n",
       "      <td>A</td>\n",
       "      <td>16/11/05</td>\n",
       "      <td>260500.0</td>\n",
       "      <td>34.0</td>\n",
       "      <td>280000.0</td>\n",
       "      <td>33.0</td>\n",
       "      <td>...</td>\n",
       "      <td>NaN</td>\n",
       "      <td>NaN</td>\n",
       "      <td>NaN</td>\n",
       "      <td>NaN</td>\n",
       "      <td>NaN</td>\n",
       "      <td>NaN</td>\n",
       "      <td>NaN</td>\n",
       "      <td>NaN</td>\n",
       "      <td>NaN</td>\n",
       "      <td>NaN</td>\n",
       "    </tr>\n",
       "  </tbody>\n",
       "</table>\n",
       "<p>5 rows × 251 columns</p>\n",
       "</div>"
      ],
      "text/plain": [
       "   id  granted sponsor grant_category grant_value      date  RFCD.Code.1  \\\n",
       "0   1        1     NaN            NaN          A    8/11/05     280199.0   \n",
       "1   2        1      2B            10A          B   11/11/05     280103.0   \n",
       "2   3        1     29A            10B          A   14/11/05     321004.0   \n",
       "3   4        1     40D            10B          C   15/11/05     270602.0   \n",
       "4   5        0     59C            10A          A   16/11/05     260500.0   \n",
       "\n",
       "   RFCD.Percentage.1  RFCD.Code.2  RFCD.Percentage.2  ...   Dept.No..15  \\\n",
       "0              100.0          0.0                0.0  ...           NaN   \n",
       "1               30.0     280106.0               30.0  ...           NaN   \n",
       "2               60.0     321216.0               40.0  ...           NaN   \n",
       "3               50.0     320602.0               50.0  ...           NaN   \n",
       "4               34.0     280000.0               33.0  ...           NaN   \n",
       "\n",
       "   Faculty.No..15  With.PHD.15  No..of.Years.in.Uni.at.Time.of.Grant.15  \\\n",
       "0             NaN          NaN                                      NaN   \n",
       "1             NaN          NaN                                      NaN   \n",
       "2             NaN          NaN                                      NaN   \n",
       "3             NaN          NaN                                      NaN   \n",
       "4             NaN          NaN                                      NaN   \n",
       "\n",
       "   Number.of.Successful.Grant.15  Number.of.Unsuccessful.Grant.15  A..15  \\\n",
       "0                            NaN                              NaN    NaN   \n",
       "1                            NaN                              NaN    NaN   \n",
       "2                            NaN                              NaN    NaN   \n",
       "3                            NaN                              NaN    NaN   \n",
       "4                            NaN                              NaN    NaN   \n",
       "\n",
       "   A.15  B.15  C.15  \n",
       "0   NaN   NaN   NaN  \n",
       "1   NaN   NaN   NaN  \n",
       "2   NaN   NaN   NaN  \n",
       "3   NaN   NaN   NaN  \n",
       "4   NaN   NaN   NaN  \n",
       "\n",
       "[5 rows x 251 columns]"
      ]
     },
     "execution_count": 102,
     "metadata": {},
     "output_type": "execute_result"
    }
   ],
   "source": [
    "train.head()"
   ]
  },
  {
   "cell_type": "code",
   "execution_count": null,
   "metadata": {},
   "outputs": [],
   "source": [
    "train = pd.read_csv(os.path.join(base,ftrain), low_memory=False)"
   ]
  },
  {
   "cell_type": "code",
   "execution_count": null,
   "metadata": {},
   "outputs": [],
   "source": [
    "train"
   ]
  },
  {
   "cell_type": "code",
   "execution_count": null,
   "metadata": {},
   "outputs": [],
   "source": [
    "train.shape"
   ]
  },
  {
   "cell_type": "code",
   "execution_count": null,
   "metadata": {
    "collapsed": true
   },
   "outputs": [],
   "source": []
  }
 ],
 "metadata": {
  "kernelspec": {
   "display_name": "Python 3",
   "language": "python",
   "name": "python3"
  },
  "language_info": {
   "codemirror_mode": {
    "name": "ipython",
    "version": 3
   },
   "file_extension": ".py",
   "mimetype": "text/x-python",
   "name": "python",
   "nbconvert_exporter": "python",
   "pygments_lexer": "ipython3",
   "version": "3.6.2"
  }
 },
 "nbformat": 4,
 "nbformat_minor": 2
}
