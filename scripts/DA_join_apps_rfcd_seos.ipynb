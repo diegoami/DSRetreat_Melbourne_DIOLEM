{
 "cells": [
  {
   "cell_type": "code",
   "execution_count": 15,
   "metadata": {
    "collapsed": true
   },
   "outputs": [],
   "source": [
    "import pandas as pd\n",
    "seo_train = pd.read_csv('../data/train_seo_mod.csv')\n",
    "rfcd_train = pd.read_csv('../data/train_rfcd_mod.csv')\n",
    "app_train = pd.read_csv('../data/train_apps_mod.csv')\n"
   ]
  },
  {
   "cell_type": "code",
   "execution_count": 16,
   "metadata": {
    "collapsed": true
   },
   "outputs": [],
   "source": [
    "app_rfcd_train = app_train.merge(rfcd_train, on='id', how='outer')"
   ]
  },
  {
   "cell_type": "code",
   "execution_count": 17,
   "metadata": {
    "collapsed": true
   },
   "outputs": [],
   "source": [
    "rfcd_train_pivoted = rfcd_train.pivot( index='id', columns='RFCD.Code', values='RFCD.Percentage').fillna(0)\n",
    "seo_train_pivoted  = seo_train.pivot( index='id', columns='SEO.Code', values='SEO.Percentage').fillna(0)\n"
   ]
  },
  {
   "cell_type": "code",
   "execution_count": 18,
   "metadata": {
    "collapsed": true
   },
   "outputs": [],
   "source": [
    "rfcd_train_pivoted.rename(columns=lambda x: \"RFCD_\"+str(x), inplace=True)"
   ]
  },
  {
   "cell_type": "code",
   "execution_count": 19,
   "metadata": {
    "collapsed": true
   },
   "outputs": [],
   "source": [
    "seo_train_pivoted.rename(columns=lambda x: \"SEO_\"+str(x), inplace=True)"
   ]
  },
  {
   "cell_type": "code",
   "execution_count": 20,
   "metadata": {
    "collapsed": true
   },
   "outputs": [],
   "source": [
    "app_rfcd_train = app_train.join(rfcd_train_pivoted, how='outer').fillna(0)\n"
   ]
  },
  {
   "cell_type": "code",
   "execution_count": 21,
   "metadata": {
    "collapsed": true
   },
   "outputs": [],
   "source": [
    "app_rfcd_seo_train = app_rfcd_train.join(seo_train_pivoted, how='outer').fillna(0)"
   ]
  },
  {
   "cell_type": "code",
   "execution_count": 65,
   "metadata": {
    "collapsed": true
   },
   "outputs": [],
   "source": [
    "app_rfcd_seo_train.to_csv('../data/train_apps_rfcd_seo_mod.csv')"
   ]
  },
  {
   "cell_type": "code",
   "execution_count": 22,
   "metadata": {},
   "outputs": [],
   "source": [
    "app_rfcd_seo_train['RFCD_OTHER'] = 100-app_rfcd_seo_train[[x for x in app_rfcd_seo_train.columns if x.startswith('RFCD') ]].sum(axis=1)"
   ]
  },
  {
   "cell_type": "code",
   "execution_count": 23,
   "metadata": {
    "collapsed": true
   },
   "outputs": [],
   "source": [
    "app_rfcd_seo_train['SEO_OTHER'] = 100-app_rfcd_seo_train[[x for x in app_rfcd_seo_train.columns if x.startswith('SEO') ]].sum(axis=1)"
   ]
  },
  {
   "cell_type": "code",
   "execution_count": 26,
   "metadata": {
    "collapsed": true
   },
   "outputs": [],
   "source": [
    "app_rfcd_seo_train.set_index('id', inplace=True)"
   ]
  },
  {
   "cell_type": "code",
   "execution_count": 28,
   "metadata": {},
   "outputs": [],
   "source": [
    "app_rfcd_seo_train.to_csv('../data/train_apps_rfcd_seo_mod.csv')"
   ]
  },
  {
   "cell_type": "code",
   "execution_count": null,
   "metadata": {
    "collapsed": true
   },
   "outputs": [],
   "source": []
  }
 ],
 "metadata": {
  "kernelspec": {
   "display_name": "Python 3",
   "language": "python",
   "name": "python3"
  },
  "language_info": {
   "codemirror_mode": {
    "name": "ipython",
    "version": 3
   },
   "file_extension": ".py",
   "mimetype": "text/x-python",
   "name": "python",
   "nbconvert_exporter": "python",
   "pygments_lexer": "ipython3",
   "version": "3.6.2"
  }
 },
 "nbformat": 4,
 "nbformat_minor": 2
}
