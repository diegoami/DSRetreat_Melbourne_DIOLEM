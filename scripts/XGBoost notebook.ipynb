{
 "cells": [
  {
   "cell_type": "code",
   "execution_count": 1,
   "metadata": {},
   "outputs": [
    {
     "name": "stdout",
     "output_type": "stream",
     "text": [
      "/home/diego/PycharmProjects/DSRetreat_Melbourne_DIOLEM\n"
     ]
    }
   ],
   "source": [
    "\n",
    "%cd \"..\""
   ]
  },
  {
   "cell_type": "code",
   "execution_count": 2,
   "metadata": {},
   "outputs": [
    {
     "name": "stdout",
     "output_type": "stream",
     "text": [
      "<class 'pandas.core.frame.DataFrame'>\n",
      "RangeIndex: 6633 entries, 0 to 6632\n",
      "Data columns (total 70 columns):\n",
      "A                               6633 non-null float64\n",
      "A.                              6633 non-null float64\n",
      "B                               6633 non-null float64\n",
      "C                               6633 non-null float64\n",
      "Dept.No.                        6633 non-null int8\n",
      "EXTERNAL_ADVISOR                6633 non-null float64\n",
      "EXT_CHIEF_INVESTIGATOR          6633 non-null float64\n",
      "Faculty.No.                     6633 non-null int8\n",
      "Number.of.Successful.Grant      6633 non-null float64\n",
      "Number.of.Unsuccessful.Grant    6633 non-null float64\n",
      "RFCD_21                         6633 non-null float64\n",
      "RFCD_23                         6633 non-null float64\n",
      "RFCD_24                         6633 non-null float64\n",
      "RFCD_25                         6633 non-null float64\n",
      "RFCD_26                         6633 non-null float64\n",
      "RFCD_27                         6633 non-null float64\n",
      "RFCD_28                         6633 non-null float64\n",
      "RFCD_29                         6633 non-null float64\n",
      "RFCD_30                         6633 non-null float64\n",
      "RFCD_31                         6633 non-null float64\n",
      "RFCD_32                         6633 non-null float64\n",
      "RFCD_33                         6633 non-null float64\n",
      "RFCD_34                         6633 non-null float64\n",
      "RFCD_35                         6633 non-null float64\n",
      "RFCD_36                         6633 non-null float64\n",
      "RFCD_37                         6633 non-null float64\n",
      "RFCD_38                         6633 non-null float64\n",
      "RFCD_39                         6633 non-null float64\n",
      "RFCD_40                         6633 non-null float64\n",
      "RFCD_41                         6633 non-null float64\n",
      "RFCD_42                         6633 non-null float64\n",
      "RFCD_43                         6633 non-null float64\n",
      "RFCD_44                         6633 non-null float64\n",
      "RFCD_99                         6633 non-null float64\n",
      "RFCD_OTHER                      6633 non-null float64\n",
      "SEO_61                          6633 non-null float64\n",
      "SEO_62                          6633 non-null float64\n",
      "SEO_63                          6633 non-null float64\n",
      "SEO_64                          6633 non-null float64\n",
      "SEO_65                          6633 non-null float64\n",
      "SEO_66                          6633 non-null float64\n",
      "SEO_67                          6633 non-null float64\n",
      "SEO_68                          6633 non-null float64\n",
      "SEO_69                          6633 non-null float64\n",
      "SEO_70                          6633 non-null float64\n",
      "SEO_71                          6633 non-null float64\n",
      "SEO_72                          6633 non-null float64\n",
      "SEO_73                          6633 non-null float64\n",
      "SEO_74                          6633 non-null float64\n",
      "SEO_75                          6633 non-null float64\n",
      "SEO_76                          6633 non-null float64\n",
      "SEO_77                          6633 non-null float64\n",
      "SEO_78                          6633 non-null float64\n",
      "SEO_99                          6633 non-null float64\n",
      "SEO_OTHER                       6633 non-null float64\n",
      "STUDRES                         6633 non-null float64\n",
      "STUD_CHIEF_INVESTIGATOR         6633 non-null float64\n",
      "With.PHD                        6633 non-null float64\n",
      "date                            6633 non-null int64\n",
      "grant_category                  6633 non-null int8\n",
      "grant_value                     6633 non-null float64\n",
      "granted                         6633 non-null int64\n",
      "id                              6633 non-null int64\n",
      "max_year_of_birth               6633 non-null float64\n",
      "max_years_in_uni                6633 non-null float64\n",
      "mean_year_of_birth              6633 non-null float64\n",
      "mean_years_in_uni               6633 non-null float64\n",
      "month                           6633 non-null int8\n",
      "n_internals                     6633 non-null int64\n",
      "sponsor                         6633 non-null int8\n",
      "dtypes: float64(61), int64(4), int8(5)\n",
      "memory usage: 3.3 MB\n",
      "None\n",
      "Fitting 5 folds for each of 1 candidates, totalling 5 fits\n",
      "[CV]  ................................................................\n",
      "[CV] ....................... , score=0.9047292244272582, total=   2.7s\n",
      "[CV]  ................................................................\n"
     ]
    },
    {
     "name": "stderr",
     "output_type": "stream",
     "text": [
      "[Parallel(n_jobs=1)]: Done   1 out of   1 | elapsed:    2.7s remaining:    0.0s\n"
     ]
    },
    {
     "name": "stdout",
     "output_type": "stream",
     "text": [
      "[CV] ....................... , score=0.9180684637705537, total=   2.8s\n",
      "[CV]  ................................................................\n"
     ]
    },
    {
     "name": "stderr",
     "output_type": "stream",
     "text": [
      "[Parallel(n_jobs=1)]: Done   2 out of   2 | elapsed:    5.6s remaining:    0.0s\n"
     ]
    },
    {
     "name": "stdout",
     "output_type": "stream",
     "text": [
      "[CV] ....................... , score=0.8578065127360902, total=   2.8s\n",
      "[CV]  ................................................................\n"
     ]
    },
    {
     "name": "stderr",
     "output_type": "stream",
     "text": [
      "[Parallel(n_jobs=1)]: Done   3 out of   3 | elapsed:    8.5s remaining:    0.0s\n"
     ]
    },
    {
     "name": "stdout",
     "output_type": "stream",
     "text": [
      "[CV] ....................... , score=0.8573678356068145, total=   2.8s\n",
      "[CV]  ................................................................\n"
     ]
    },
    {
     "name": "stderr",
     "output_type": "stream",
     "text": [
      "[Parallel(n_jobs=1)]: Done   4 out of   4 | elapsed:   11.4s remaining:    0.0s\n"
     ]
    },
    {
     "name": "stdout",
     "output_type": "stream",
     "text": [
      "[CV] ....................... , score=0.8220056744041278, total=   2.8s\n"
     ]
    },
    {
     "name": "stderr",
     "output_type": "stream",
     "text": [
      "[Parallel(n_jobs=1)]: Done   5 out of   5 | elapsed:   14.2s remaining:    0.0s\n",
      "[Parallel(n_jobs=1)]: Done   5 out of   5 | elapsed:   14.2s finished\n"
     ]
    },
    {
     "name": "stdout",
     "output_type": "stream",
     "text": [
      "\tbase_score: 0.5\n",
      "\tbooster: 'gbtree'\n",
      "\tcolsample_bylevel: 1\n",
      "\tcolsample_bytree: 0.7\n",
      "\tgamma: 0.4\n",
      "\tlearning_rate: 0.1\n",
      "\tmax_delta_step: 0\n",
      "\tmax_depth: 4\n",
      "\tmin_child_weight: 4\n",
      "\tmissing: None\n",
      "\tn_estimators: 500\n",
      "\tn_jobs: 1\n",
      "\tnthread: None\n",
      "\tobjective: 'reg:linear'\n",
      "\trandom_state: 0\n",
      "\treg_alpha: 0.5\n",
      "\treg_lambda: 1\n",
      "\tscale_pos_weight: 1\n",
      "\tseed: None\n",
      "\tsilent: True\n",
      "\tsubsample: 0.8\n",
      "0.81186299081\n",
      "0.81186299081\n",
      "date                            498\n",
      "sponsor                         353\n",
      "grant_value                     201\n",
      "Number.of.Unsuccessful.Grant    189\n",
      "month                           148\n",
      "grant_category                  147\n",
      "Number.of.Successful.Grant      146\n",
      "A.                              138\n",
      "Dept.No.                        124\n",
      "B                               119\n",
      "A                               116\n",
      "C                                89\n",
      "mean_years_in_uni                86\n",
      "mean_year_of_birth               85\n",
      "max_year_of_birth                73\n",
      "RFCD_32                          58\n",
      "EXT_CHIEF_INVESTIGATOR           55\n",
      "STUD_CHIEF_INVESTIGATOR          49\n",
      "SEO_73                           44\n",
      "RFCD_27                          42\n",
      "Faculty.No.                      34\n",
      "With.PHD                         34\n",
      "n_internals                      32\n",
      "RFCD_OTHER                       26\n",
      "SEO_78                           24\n",
      "SEO_67                           22\n",
      "RFCD_25                          21\n",
      "RFCD_26                          20\n",
      "STUDRES                          18\n",
      "max_years_in_uni                 16\n",
      "                               ... \n",
      "SEO_77                           12\n",
      "RFCD_29                          11\n",
      "SEO_62                           11\n",
      "RFCD_41                          10\n",
      "SEO_76                            9\n",
      "RFCD_43                           8\n",
      "SEO_68                            8\n",
      "RFCD_37                           8\n",
      "SEO_72                            8\n",
      "RFCD_23                           7\n",
      "SEO_61                            7\n",
      "SEO_63                            7\n",
      "SEO_65                            7\n",
      "SEO_70                            6\n",
      "SEO_64                            6\n",
      "SEO_74                            5\n",
      "RFCD_34                           5\n",
      "RFCD_33                           3\n",
      "RFCD_36                           3\n",
      "RFCD_40                           2\n",
      "RFCD_42                           2\n",
      "RFCD_39                           2\n",
      "RFCD_38                           2\n",
      "RFCD_44                           1\n",
      "SEO_66                            1\n",
      "SEO_69                            1\n",
      "SEO_71                            1\n",
      "RFCD_35                           1\n",
      "SEO_99                            1\n",
      "RFCD_21                           1\n",
      "Length: 65, dtype: int64\n"
     ]
    }
   ],
   "source": [
    "\n",
    "from sklearn.ensemble import  RandomForestRegressor, GradientBoostingRegressor\n",
    "from sklearn.ensemble import  RandomForestClassifier\n",
    "from xgboost import XGBClassifier, XGBRegressor\n",
    "from sklearn.metrics import accuracy_score\n",
    "from sklearn.metrics import roc_auc_score\n",
    "from sklearn.model_selection import GridSearchCV\n",
    "from sklearn.model_selection import cross_val_score\n",
    "# from scripts.DA_model_extract import extract, extract_old\n",
    "import sys\n",
    "\n",
    "from scripts.eo_transport_data import run\n",
    "sys.path.append('..')\n",
    "import pandas as pd\n",
    "\n",
    "def extract(df_train, df_test):\n",
    "\n",
    "    y_train = df_train['granted']\n",
    "    y_test = df_test['granted']\n",
    "    X_train = df_train.drop(['granted', 'id'],axis=1)\n",
    "    X_test = df_test.drop(['granted', 'id'],axis=1)\n",
    "\n",
    "    return X_train, y_train, X_test, y_test\n",
    "\n",
    "def get_random_classifier():\n",
    "    return RandomForestClassifier(n_estimators=200)\n",
    "\n",
    "\n",
    "def get_random_regressor():\n",
    "    return RandomForestRegressor(n_estimators=200)\n",
    "\n",
    "\n",
    "\n",
    "def get_classifier_xgboost():\n",
    "    return XGBClassifier(max_depth=2, min_child_weight=2, gamma=0),\n",
    "\n",
    "\n",
    "def get_best_xgboost():\n",
    "    return XGBRegressor(max_depth=4, min_child_weight=4, gamma=0.4, subsample=0.8, colsample_bytree=0.7, reg_alpha = 0.5,learning_rate =0.1, n_estimators= 500)\n",
    "\n",
    "def get_gridsearch_xgboost():\n",
    "    xgbparams = {\n",
    "        #'min_child_weight' : [1,2,3,4,5],\n",
    "        #'max_depth' : [1,2,3,4,5]\n",
    "        #'gamma': [0.38, 0.39, 0.4, 0.41, 0.42]\n",
    "        #'subsample': [0.75,  0.775, 0.8, 0.825, 0.85],\n",
    "        #'colsample_bytree': [0.65, 0.675, 0.7, 0.725, 0.75]\n",
    "        #'reg_alpha': [0.1, 0.5 , 1, 5, 10]\n",
    "        #'learning_rate' : [0.1 , 0.001, 0.0001],\n",
    "        #'n_estimators': [400, 1500, 5000],\n",
    " }\n",
    "    gs = GridSearchCV(XGBRegressor(max_depth=4, min_child_weight=4, gamma=0.4, subsample=0.8, colsample_bytree=0.7, reg_alpha = 0.5, learning_rate =0.1, n_estimators= 500  ), xgbparams,cv =5, scoring='roc_auc', verbose = 10)\n",
    "    return gs\n",
    "\n",
    "\n",
    "def print_best_parameters(classifier):\n",
    "    if hasattr(classifier, \"best_estimator_\"):\n",
    "        best_parameters = classifier.best_estimator_.get_params()\n",
    "        for param_name in sorted(best_parameters.keys()):\n",
    "            print(\"\\t%s: %r\" % (param_name, best_parameters[param_name]))\n",
    "\n",
    "\n",
    "def test_with_classif(classifier, df_train, df_test):\n",
    "    X_train, y_train, X_test, y_test  = extract(df_train, df_test)\n",
    "    classifier.fit(X=X_train, y=y_train)\n",
    "    y_pred = classifier.predict(X_test)\n",
    "    print_best_parameters(classifier)\n",
    "    print(roc_auc_score(y_test, y_pred))\n",
    "\n",
    "def main():\n",
    "\n",
    "    df_train, df_test = run(base='data', print_info=False)\n",
    "    xgridboost = get_gridsearch_xgboost()\n",
    "    test_with_classif(xgridboost , df_train, df_test)\n",
    "    bestboost = get_best_xgboost()\n",
    "\n",
    "    test_with_classif(bestboost , df_train, df_test)\n",
    "    series = pd.Series(bestboost.get_booster().get_fscore())\n",
    "    print(series.sort_values(ascending=False))\n",
    "\n",
    "main()"
   ]
  },
  {
   "cell_type": "code",
   "execution_count": null,
   "metadata": {
    "collapsed": true
   },
   "outputs": [],
   "source": []
  }
 ],
 "metadata": {
  "kernelspec": {
   "display_name": "Python 3",
   "language": "python",
   "name": "python3"
  },
  "language_info": {
   "codemirror_mode": {
    "name": "ipython",
    "version": 3
   },
   "file_extension": ".py",
   "mimetype": "text/x-python",
   "name": "python",
   "nbconvert_exporter": "python",
   "pygments_lexer": "ipython3",
   "version": "3.6.2"
  }
 },
 "nbformat": 4,
 "nbformat_minor": 2
}
