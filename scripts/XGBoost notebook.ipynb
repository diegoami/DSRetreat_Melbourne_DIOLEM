{
 "cells": [
  {
   "cell_type": "code",
   "execution_count": 1,
   "metadata": {},
   "outputs": [
    {
     "name": "stdout",
     "output_type": "stream",
     "text": [
      "/home/diego/PycharmProjects/DSRetreat_Melbourne_DIOLEM\n"
     ]
    }
   ],
   "source": [
    "\n",
    "%cd \"..\""
   ]
  },
  {
   "cell_type": "code",
   "execution_count": 2,
   "metadata": {},
   "outputs": [
    {
     "name": "stdout",
     "output_type": "stream",
     "text": [
      "Fitting 5 folds for each of 1 candidates, totalling 5 fits\n",
      "[CV]  ................................................................\n",
      "[CV] ....................... , score=0.9047292244272582, total=   2.6s\n",
      "[CV]  ................................................................\n"
     ]
    },
    {
     "name": "stderr",
     "output_type": "stream",
     "text": [
      "[Parallel(n_jobs=1)]: Done   1 out of   1 | elapsed:    2.7s remaining:    0.0s\n"
     ]
    },
    {
     "name": "stdout",
     "output_type": "stream",
     "text": [
      "[CV] ....................... , score=0.9180684637705537, total=   2.6s\n",
      "[CV]  ................................................................\n"
     ]
    },
    {
     "name": "stderr",
     "output_type": "stream",
     "text": [
      "[Parallel(n_jobs=1)]: Done   2 out of   2 | elapsed:    5.4s remaining:    0.0s\n"
     ]
    },
    {
     "name": "stdout",
     "output_type": "stream",
     "text": [
      "[CV] ....................... , score=0.8578065127360902, total=   2.7s\n",
      "[CV]  ................................................................\n"
     ]
    },
    {
     "name": "stderr",
     "output_type": "stream",
     "text": [
      "[Parallel(n_jobs=1)]: Done   3 out of   3 | elapsed:    8.1s remaining:    0.0s\n"
     ]
    },
    {
     "name": "stdout",
     "output_type": "stream",
     "text": [
      "[CV] ....................... , score=0.8573678356068145, total=   2.7s\n",
      "[CV]  ................................................................\n"
     ]
    },
    {
     "name": "stderr",
     "output_type": "stream",
     "text": [
      "[Parallel(n_jobs=1)]: Done   4 out of   4 | elapsed:   10.8s remaining:    0.0s\n"
     ]
    },
    {
     "name": "stdout",
     "output_type": "stream",
     "text": [
      "[CV] ....................... , score=0.8220056744041278, total=   2.6s\n"
     ]
    },
    {
     "name": "stderr",
     "output_type": "stream",
     "text": [
      "[Parallel(n_jobs=1)]: Done   5 out of   5 | elapsed:   13.5s remaining:    0.0s\n",
      "[Parallel(n_jobs=1)]: Done   5 out of   5 | elapsed:   13.5s finished\n"
     ]
    },
    {
     "name": "stdout",
     "output_type": "stream",
     "text": [
      "\tbase_score: 0.5\n",
      "\tbooster: 'gbtree'\n",
      "\tcolsample_bylevel: 1\n",
      "\tcolsample_bytree: 0.7\n",
      "\tgamma: 0.4\n",
      "\tlearning_rate: 0.1\n",
      "\tmax_delta_step: 0\n",
      "\tmax_depth: 4\n",
      "\tmin_child_weight: 4\n",
      "\tmissing: None\n",
      "\tn_estimators: 500\n",
      "\tn_jobs: 1\n",
      "\tnthread: None\n",
      "\tobjective: 'reg:linear'\n",
      "\trandom_state: 0\n",
      "\treg_alpha: 0.5\n",
      "\treg_lambda: 1\n",
      "\tscale_pos_weight: 1\n",
      "\tseed: None\n",
      "\tsilent: True\n",
      "\tsubsample: 0.8\n",
      "0.81186299081\n",
      "0.81186299081\n",
      "date                            498\n",
      "sponsor                         353\n",
      "grant_value                     201\n",
      "Number.of.Unsuccessful.Grant    189\n",
      "month                           148\n",
      "grant_category                  147\n",
      "Number.of.Successful.Grant      146\n",
      "A.                              138\n",
      "Dept.No.                        124\n",
      "B                               119\n",
      "A                               116\n",
      "C                                89\n",
      "mean_years_in_uni                86\n",
      "mean_year_of_birth               85\n",
      "max_year_of_birth                73\n",
      "RFCD_32                          58\n",
      "EXT_CHIEF_INVESTIGATOR           55\n",
      "STUD_CHIEF_INVESTIGATOR          49\n",
      "SEO_73                           44\n",
      "RFCD_27                          42\n",
      "Faculty.No.                      34\n",
      "With.PHD                         34\n",
      "n_internals                      32\n",
      "RFCD_OTHER                       26\n",
      "SEO_78                           24\n",
      "SEO_67                           22\n",
      "RFCD_25                          21\n",
      "RFCD_26                          20\n",
      "STUDRES                          18\n",
      "max_years_in_uni                 16\n",
      "                               ... \n",
      "SEO_77                           12\n",
      "RFCD_29                          11\n",
      "SEO_62                           11\n",
      "RFCD_41                          10\n",
      "SEO_76                            9\n",
      "RFCD_43                           8\n",
      "SEO_68                            8\n",
      "RFCD_37                           8\n",
      "SEO_72                            8\n",
      "RFCD_23                           7\n",
      "SEO_61                            7\n",
      "SEO_63                            7\n",
      "SEO_65                            7\n",
      "SEO_70                            6\n",
      "SEO_64                            6\n",
      "SEO_74                            5\n",
      "RFCD_34                           5\n",
      "RFCD_33                           3\n",
      "RFCD_36                           3\n",
      "RFCD_40                           2\n",
      "RFCD_42                           2\n",
      "RFCD_39                           2\n",
      "RFCD_38                           2\n",
      "RFCD_44                           1\n",
      "SEO_66                            1\n",
      "SEO_69                            1\n",
      "SEO_71                            1\n",
      "RFCD_35                           1\n",
      "SEO_99                            1\n",
      "RFCD_21                           1\n",
      "Length: 65, dtype: int64\n"
     ]
    }
   ],
   "source": [
    "from scripts.DA_model_process import main\n",
    "\n",
    "main(ds1='train', ds2='test',base='data', print_info=False)"
   ]
  },
  {
   "cell_type": "code",
   "execution_count": null,
   "metadata": {
    "collapsed": true
   },
   "outputs": [],
   "source": []
  }
 ],
 "metadata": {
  "kernelspec": {
   "display_name": "Python 3",
   "language": "python",
   "name": "python3"
  },
  "language_info": {
   "codemirror_mode": {
    "name": "ipython",
    "version": 3
   },
   "file_extension": ".py",
   "mimetype": "text/x-python",
   "name": "python",
   "nbconvert_exporter": "python",
   "pygments_lexer": "ipython3",
   "version": "3.6.2"
  }
 },
 "nbformat": 4,
 "nbformat_minor": 2
}
