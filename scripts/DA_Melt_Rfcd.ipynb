{
 "cells": [
  {
   "cell_type": "markdown",
   "metadata": {},
   "source": [
    "# Generate the RAW Files\n",
    "\n"
   ]
  },
  {
   "cell_type": "code",
   "execution_count": 94,
   "metadata": {},
   "outputs": [
    {
     "name": "stderr",
     "output_type": "stream",
     "text": [
      "/home/diego/anaconda3/lib/python3.6/site-packages/IPython/core/interactiveshell.py:2717: DtypeWarning: Columns (90,105,119,120,123,124,132,134,135,138,139,147,149,150,153,154,162,164,165,168,169,177,179,183,184,192,194,198,199,207,209,213,214,224,237,239,244) have mixed types. Specify dtype option on import or set low_memory=False.\n",
      "  interactivity=interactivity, compiler=compiler, result=result)\n"
     ]
    }
   ],
   "source": [
    "import pandas as pd\n",
    "df = pd.read_csv('../data/unimelb_training.csv')"
   ]
  },
  {
   "cell_type": "code",
   "execution_count": 95,
   "metadata": {
    "collapsed": true
   },
   "outputs": [],
   "source": [
    "def get_melted(rfcds, id='Grant.Application.ID'):\n",
    "    rcd1 = rfcds.melt( id_vars=[id,'RFCD.Code.1'], value_vars=['RFCD.Percentage.1']).rename(columns={'RFCD.Code.1': 'RFCD.Code', 'RFCD.Percentage.1' : 'RFCD.Percentage' })\n",
    "    rcd2 = rfcds.melt( id_vars=[id,'RFCD.Code.2'], value_vars=['RFCD.Percentage.2']).rename(columns={'RFCD.Code.2': 'RFCD.Code', 'RFCD.Percentage.2' : 'RFCD.Percentage' })\n",
    "    rcd3 = rfcds.melt( id_vars=[id,'RFCD.Code.3'], value_vars=['RFCD.Percentage.3']).rename(columns={'RFCD.Code.3': 'RFCD.Code', 'RFCD.Percentage.3' : 'RFCD.Percentage' })\n",
    "    rcd4 = rfcds.melt( id_vars=[id,'RFCD.Code.4'], value_vars=['RFCD.Percentage.4']).rename(columns={'RFCD.Code.4': 'RFCD.Code', 'RFCD.Percentage.4' : 'RFCD.Percentage' })\n",
    "    rdcn = pd.concat([rcd1, rcd2, rcd3, rcd4]).sort_values(by=id)  \n",
    "    rdmelted = rdcn.loc[rdcn['value'] > 0].reset_index(drop=True)\n",
    "    return rdmelted\n"
   ]
  },
  {
   "cell_type": "code",
   "execution_count": 96,
   "metadata": {
    "collapsed": true
   },
   "outputs": [],
   "source": [
    "rfcds = pd.concat([df.iloc[:,0],df.iloc[:,6:16]], axis=1)\n",
    "rdmelted = get_melted(rfcds)\n",
    "rdmelted.to_csv('../data/rtcd_raw.csv')"
   ]
  },
  {
   "cell_type": "code",
   "execution_count": 97,
   "metadata": {},
   "outputs": [
    {
     "name": "stderr",
     "output_type": "stream",
     "text": [
      "/home/diego/anaconda3/lib/python3.6/site-packages/IPython/core/interactiveshell.py:2717: DtypeWarning: Columns (120,135,149,150,153,154,164,165,168,169,179,183,184,194,198,199,209,213,214,224,237,239,244) have mixed types. Specify dtype option on import or set low_memory=False.\n",
      "  interactivity=interactivity, compiler=compiler, result=result)\n"
     ]
    }
   ],
   "source": [
    "df_train = pd.read_csv('../data/train.csv')\n",
    "df_test  = pd.read_csv('../data/test.csv')"
   ]
  },
  {
   "cell_type": "code",
   "execution_count": 98,
   "metadata": {
    "collapsed": true
   },
   "outputs": [],
   "source": [
    "def post_process(df):\n",
    "    mdf = get_melted(df, id='id')\n",
    "    mdf['RFCD.Code'] = mdf[['RFCD.Code']].applymap(int)\n",
    "    mdf['RFCD.Code'] = mdf[['RFCD.Code']].applymap(str)\n",
    "    mdf = mdf.drop('variable', axis=1)\n",
    "    mdf = mdf.rename(columns={'value': 'RFCD.Percentage'})\n",
    "    mdf = mdf.set_index(['id','RFCD.Code']).sort_index()\n",
    "    return mdf\n",
    "    "
   ]
  },
  {
   "cell_type": "code",
   "execution_count": 99,
   "metadata": {
    "collapsed": true
   },
   "outputs": [],
   "source": [
    "mdf_train = post_process(df_train)\n",
    "mdf_train.to_csv('../data/train_rfcd_raw.csv')    "
   ]
  },
  {
   "cell_type": "code",
   "execution_count": 100,
   "metadata": {
    "collapsed": true
   },
   "outputs": [],
   "source": [
    "mdf_test = post_process(df_train)\n",
    "mdf_test.to_csv('../data/test_rfcd_raw.csv')    "
   ]
  },
  {
   "cell_type": "markdown",
   "metadata": {},
   "source": [
    "# Aggregate by code"
   ]
  },
  {
   "cell_type": "code",
   "execution_count": null,
   "metadata": {
    "collapsed": true
   },
   "outputs": [],
   "source": [
    "import pandas as pd\n",
    "mdf_train = pd.read_csv('../data/train_rtcd_raw.csv', index_col=None)  \n",
    "mdf_test = pd.read_csv('../data/test_rtcd_raw.csv',  index_col=None)  "
   ]
  },
  {
   "cell_type": "code",
   "execution_count": null,
   "metadata": {
    "collapsed": true
   },
   "outputs": [],
   "source": [
    "def generate_by_substring(df, n):\n",
    "    df['RFCD.Code'] = df[['RFCD.Code']].applymap(str)\n",
    "    mdgs = df.groupby(['id', df['SEO.Code'].str[:n]]).sum()\n",
    "    return mdgs\n"
   ]
  }
 ],
 "metadata": {
  "kernelspec": {
   "display_name": "Python 3",
   "language": "python",
   "name": "python3"
  },
  "language_info": {
   "codemirror_mode": {
    "name": "ipython",
    "version": 3
   },
   "file_extension": ".py",
   "mimetype": "text/x-python",
   "name": "python",
   "nbconvert_exporter": "python",
   "pygments_lexer": "ipython3",
   "version": "3.6.1"
  }
 },
 "nbformat": 4,
 "nbformat_minor": 2
}
