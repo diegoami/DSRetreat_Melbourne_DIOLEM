{
 "cells": [
  {
   "cell_type": "code",
   "execution_count": 230,
   "metadata": {
    "collapsed": true
   },
   "outputs": [],
   "source": [
    "import numpy as np\n",
    "import pandas as pd\n",
    "import os.path\n",
    "import matplotlib.pyplot as plt\n",
    "%matplotlib inline\n",
    "\n",
    "base = '../data/'\n",
    "path = 'train_apps_raw.csv'\n",
    "apps = pd.read_csv(os.path.join(base,path), low_memory=False)"
   ]
  },
  {
   "cell_type": "code",
   "execution_count": 207,
   "metadata": {},
   "outputs": [],
   "source": [
    "def split_sponsor_and_grant_category(apps):\n",
    "    apps['sponsor_c']= apps['sponsor'].str.extract('([A-Z])',expand=False)\n",
    "    apps['sponsor_n'] = apps['sponsor'].str.extract('(\\d+)',expand=False)\n",
    "    apps['grant_category_c']= apps['grant_category'].str.extract('([A-Z])',expand=False)\n",
    "    apps['grant_category_n'] = apps['grant_category'].str.extract('(\\d+)',expand=False)\n",
    "\n",
    "def fill_nan_by_key(apps,key):\n",
    "    values_agg = apps[key].value_counts().sort_index()\n",
    "    values = values_agg.index\n",
    "    prob   = values_agg.values\n",
    "    prob = prob/int(prob.sum())\n",
    "    mask = apps[key].isnull()\n",
    "    rands = np.random.choice(values,mask.sum(),p=prob)\n",
    "    apps.loc[mask,key] = rands\n",
    "    \n",
    "def fill_nans(apps):\n",
    "    keys = ['grant_value','sponsor','grant_category']\n",
    "    for k in keys:\n",
    "        fill_nan_by_key(apps,k)\n",
    "        \n",
    "def rebin_values(apps):\n",
    "    mask = apps['grant_value']>400001\n",
    "    apps.loc[mask,'grant_value'] = 500000"
   ]
  },
  {
   "cell_type": "code",
   "execution_count": 208,
   "metadata": {},
   "outputs": [
    {
     "name": "stdout",
     "output_type": "stream",
     "text": [
      "<class 'pandas.core.frame.DataFrame'>\n",
      "RangeIndex: 6633 entries, 0 to 6632\n",
      "Data columns (total 6 columns):\n",
      "id                6633 non-null int64\n",
      "granted           6633 non-null int64\n",
      "sponsor           5801 non-null object\n",
      "grant_category    5801 non-null object\n",
      "grant_value       3914 non-null float64\n",
      "date              6633 non-null object\n",
      "dtypes: float64(1), int64(2), object(3)\n",
      "memory usage: 311.0+ KB\n"
     ]
    }
   ],
   "source": [
    "apps.info()"
   ]
  },
  {
   "cell_type": "code",
   "execution_count": 209,
   "metadata": {},
   "outputs": [],
   "source": [
    "fill_nans(apps)\n",
    "split_sponsor_and_grant_category(apps)\n",
    "rebin_values(apps)"
   ]
  },
  {
   "cell_type": "code",
   "execution_count": 210,
   "metadata": {},
   "outputs": [
    {
     "name": "stdout",
     "output_type": "stream",
     "text": [
      "<class 'pandas.core.frame.DataFrame'>\n",
      "RangeIndex: 6633 entries, 0 to 6632\n",
      "Data columns (total 10 columns):\n",
      "id                  6633 non-null int64\n",
      "granted             6633 non-null int64\n",
      "sponsor             6633 non-null object\n",
      "grant_category      6633 non-null object\n",
      "grant_value         6633 non-null float64\n",
      "date                6633 non-null object\n",
      "sponsor_c           6633 non-null object\n",
      "sponsor_n           6633 non-null object\n",
      "grant_category_c    6633 non-null object\n",
      "grant_category_n    6633 non-null object\n",
      "dtypes: float64(1), int64(2), object(7)\n",
      "memory usage: 518.3+ KB\n"
     ]
    }
   ],
   "source": [
    "apps.info()"
   ]
  },
  {
   "cell_type": "code",
   "execution_count": 165,
   "metadata": {},
   "outputs": [
    {
     "data": {
      "text/plain": [
       " 5000.0        0.281471\n",
       " 10000.0       0.072968\n",
       " 20000.0       0.053219\n",
       " 30000.0       0.055329\n",
       " 40000.0       0.034826\n",
       " 50000.0       0.029248\n",
       " 100000.0      0.044475\n",
       " 200000.0      0.010855\n",
       " 300000.0      0.002111\n",
       " 400000.0      0.002864\n",
       " 500000.0      0.000754\n",
       " 600000.0      0.000302\n",
       " 700000.0      0.000151\n",
       " 900000.0      0.000302\n",
       " 1000000.0     0.000302\n",
       " 10000000.0    0.000905\n",
       "NaN            0.409920\n",
       "Name: grant_value, dtype: float64"
      ]
     },
     "execution_count": 165,
     "metadata": {},
     "output_type": "execute_result"
    }
   ],
   "source": [
    "foo = apps['grant_value'].value_counts(dropna=False).sort_index()\n",
    "foo = foo/foo.values.sum()\n",
    "foo"
   ]
  },
  {
   "cell_type": "code",
   "execution_count": 162,
   "metadata": {},
   "outputs": [
    {
     "data": {
      "text/plain": [
       "5000.0        0.471883\n",
       "10000.0       0.123624\n",
       "20000.0       0.087743\n",
       "30000.0       0.096186\n",
       "40000.0       0.058043\n",
       "50000.0       0.051259\n",
       "100000.0      0.077642\n",
       "200000.0      0.020805\n",
       "300000.0      0.003618\n",
       "400000.0      0.004824\n",
       "500000.0      0.001206\n",
       "600000.0      0.000452\n",
       "700000.0      0.000151\n",
       "900000.0      0.000603\n",
       "1000000.0     0.000452\n",
       "10000000.0    0.001508\n",
       "Name: grant_value, dtype: float64"
      ]
     },
     "execution_count": 162,
     "metadata": {},
     "output_type": "execute_result"
    }
   ],
   "source": [
    "fill_nan_in_values(apps,'grant_value')\n",
    "foo = apps['grant_value'].value_counts(dropna=False).sort_index()\n",
    "foo = foo/foo.values.sum()\n",
    "foo"
   ]
  },
  {
   "cell_type": "code",
   "execution_count": 87,
   "metadata": {},
   "outputs": [],
   "source": [
    "values_agg = apps['grant_value'].value_counts()\n",
    "values = values_agg.index\n",
    "prob   = values_agg.values\n",
    "prob = prob/int(prob.sum())"
   ]
  },
  {
   "cell_type": "code",
   "execution_count": 216,
   "metadata": {},
   "outputs": [
    {
     "data": {
      "text/plain": [
       "10000.0    -0.063227\n",
       "400000.0   -0.041863\n",
       "300000.0   -0.014970\n",
       "200000.0   -0.014510\n",
       "5000.0     -0.009563\n",
       "20000.0    -0.001464\n",
       "500000.0    0.002058\n",
       "100000.0    0.020379\n",
       "30000.0     0.025168\n",
       "50000.0     0.031895\n",
       "40000.0     0.051221\n",
       "dtype: float64"
      ]
     },
     "execution_count": 216,
     "metadata": {},
     "output_type": "execute_result"
    }
   ],
   "source": [
    "db = pd.get_dummies(apps['grant_value'])\n",
    "db.corrwith(apps['granted']).sort_values()"
   ]
  },
  {
   "cell_type": "code",
   "execution_count": 214,
   "metadata": {},
   "outputs": [
    {
     "data": {
      "text/plain": [
       "24    -0.113810\n",
       "6     -0.068481\n",
       "89    -0.060379\n",
       "62    -0.052710\n",
       "205   -0.042128\n",
       "33    -0.041879\n",
       "90    -0.038669\n",
       "166   -0.038656\n",
       "252   -0.035653\n",
       "269   -0.033479\n",
       "101   -0.033473\n",
       "215   -0.032331\n",
       "40    -0.032193\n",
       "60    -0.030642\n",
       "2     -0.030323\n",
       "247   -0.029341\n",
       "77    -0.027758\n",
       "103   -0.027750\n",
       "174   -0.026783\n",
       "150   -0.026783\n",
       "210   -0.026783\n",
       "97    -0.025629\n",
       "143   -0.024918\n",
       "188   -0.024046\n",
       "176   -0.023954\n",
       "59    -0.023776\n",
       "172   -0.022753\n",
       "173   -0.022405\n",
       "158   -0.020743\n",
       "245   -0.020743\n",
       "         ...   \n",
       "235    0.017810\n",
       "48     0.017810\n",
       "84     0.018707\n",
       "203    0.020824\n",
       "179    0.020875\n",
       "36     0.020888\n",
       "69     0.021413\n",
       "219    0.021814\n",
       "233    0.021814\n",
       "239    0.021814\n",
       "120    0.021814\n",
       "253    0.021814\n",
       "39     0.024042\n",
       "208    0.024042\n",
       "213    0.025191\n",
       "194    0.028166\n",
       "67     0.028166\n",
       "148    0.029607\n",
       "52     0.030857\n",
       "266    0.030857\n",
       "132    0.035636\n",
       "5      0.036514\n",
       "163    0.037801\n",
       "9      0.041899\n",
       "47     0.043480\n",
       "55     0.043677\n",
       "75     0.062645\n",
       "51     0.064657\n",
       "34     0.092906\n",
       "21     0.120450\n",
       "Length: 245, dtype: float64"
      ]
     },
     "execution_count": 214,
     "metadata": {},
     "output_type": "execute_result"
    }
   ],
   "source": [
    "db = pd.get_dummies(apps['sponsor_n'])\n",
    "db.corrwith(apps['granted']).sort_values()"
   ]
  },
  {
   "cell_type": "code",
   "execution_count": 212,
   "metadata": {},
   "outputs": [
    {
     "data": {
      "text/plain": [
       "24D    -0.113810\n",
       "6B     -0.068481\n",
       "89A    -0.060379\n",
       "62B    -0.052710\n",
       "205A   -0.042128\n",
       "33A    -0.041879\n",
       "90B    -0.038669\n",
       "166B   -0.038656\n",
       "252D   -0.035653\n",
       "269A   -0.033479\n",
       "101A   -0.033473\n",
       "215C   -0.032331\n",
       "40D    -0.032193\n",
       "60D    -0.030642\n",
       "2B     -0.030323\n",
       "247C   -0.029341\n",
       "77A    -0.027758\n",
       "103C   -0.027750\n",
       "174B   -0.026783\n",
       "150B   -0.026783\n",
       "210B   -0.026783\n",
       "97A    -0.025629\n",
       "143C   -0.024918\n",
       "188D   -0.024046\n",
       "176D   -0.023954\n",
       "59C    -0.023776\n",
       "172D   -0.022753\n",
       "173A   -0.022405\n",
       "158B   -0.020743\n",
       "245A   -0.020743\n",
       "          ...   \n",
       "235C    0.017810\n",
       "48D     0.017810\n",
       "84D     0.018707\n",
       "203C    0.020824\n",
       "179C    0.020875\n",
       "36D     0.020888\n",
       "69A     0.021413\n",
       "219C    0.021814\n",
       "233A    0.021814\n",
       "239C    0.021814\n",
       "120D    0.021814\n",
       "253A    0.021814\n",
       "39C     0.024042\n",
       "208D    0.024042\n",
       "213A    0.025191\n",
       "194B    0.028166\n",
       "67C     0.028166\n",
       "148D    0.029607\n",
       "52D     0.030857\n",
       "266B    0.030857\n",
       "132D    0.035636\n",
       "5A      0.036514\n",
       "163C    0.037801\n",
       "9A      0.041899\n",
       "47C     0.043480\n",
       "55C     0.043677\n",
       "75C     0.062645\n",
       "51C     0.064657\n",
       "34B     0.092906\n",
       "21A     0.120450\n",
       "Length: 245, dtype: float64"
      ]
     },
     "execution_count": 212,
     "metadata": {},
     "output_type": "execute_result"
    }
   ],
   "source": [
    "db = pd.get_dummies(apps['sponsor'])\n",
    "db.corrwith(apps['granted']).sort_values()"
   ]
  },
  {
   "cell_type": "code",
   "execution_count": 222,
   "metadata": {},
   "outputs": [
    {
     "data": {
      "text/plain": [
       "141"
      ]
     },
     "execution_count": 222,
     "metadata": {},
     "output_type": "execute_result"
    }
   ],
   "source": [
    "(apps['sponsor_n'].value_counts()<5).sum()"
   ]
  },
  {
   "cell_type": "code",
   "execution_count": 224,
   "metadata": {},
   "outputs": [],
   "source": [
    "foo = apps['sponsor_n'].value_counts()"
   ]
  },
  {
   "cell_type": "code",
   "execution_count": 225,
   "metadata": {},
   "outputs": [
    {
     "data": {
      "text/plain": [
       "4      1678\n",
       "2      1525\n",
       "21      809\n",
       "34      203\n",
       "24      140\n",
       "40      131\n",
       "32      100\n",
       "5        92\n",
       "59       86\n",
       "29       81\n",
       "97       76\n",
       "6        64\n",
       "62       58\n",
       "60       56\n",
       "75       51\n",
       "149      49\n",
       "47       47\n",
       "7        38\n",
       "51       37\n",
       "65       36\n",
       "33       35\n",
       "77       34\n",
       "20       34\n",
       "89       33\n",
       "166      27\n",
       "36       26\n",
       "90       24\n",
       "205      23\n",
       "137      22\n",
       "1        22\n",
       "       ... \n",
       "100       9\n",
       "86        9\n",
       "113       9\n",
       "234       8\n",
       "132       8\n",
       "94        8\n",
       "53        8\n",
       "39        7\n",
       "222       7\n",
       "13        7\n",
       "173       7\n",
       "112       7\n",
       "15        7\n",
       "208       7\n",
       "241       7\n",
       "105       6\n",
       "247       6\n",
       "78        6\n",
       "138       6\n",
       "266       6\n",
       "161       6\n",
       "27        6\n",
       "135       6\n",
       "26        6\n",
       "203       6\n",
       "68        6\n",
       "54        6\n",
       "144       6\n",
       "52        6\n",
       "91        6\n",
       "Name: sponsor_n, Length: 95, dtype: int64"
      ]
     },
     "execution_count": 225,
     "metadata": {},
     "output_type": "execute_result"
    }
   ],
   "source": [
    "foo[foo>5]"
   ]
  },
  {
   "cell_type": "code",
   "execution_count": 226,
   "metadata": {
    "collapsed": true
   },
   "outputs": [],
   "source": [
    "foo = apps['grant_category'].value_counts()"
   ]
  },
  {
   "cell_type": "code",
   "execution_count": 229,
   "metadata": {},
   "outputs": [
    {
     "data": {
      "text/plain": [
       "Index(['10A', '30B', '50A', '20C', '10B', '30C', '30D', '20A', '30G', '30E',\n",
       "       '40C', '30A', '30F'],\n",
       "      dtype='object')"
      ]
     },
     "execution_count": 229,
     "metadata": {},
     "output_type": "execute_result"
    }
   ],
   "source": [
    "foo.index"
   ]
  },
  {
   "cell_type": "code",
   "execution_count": 231,
   "metadata": {},
   "outputs": [
    {
     "data": {
      "text/plain": [
       "<module 'pandas' from '/home/gelo/software/miniconda3/lib/python3.6/site-packages/pandas/__init__.py'>"
      ]
     },
     "execution_count": 231,
     "metadata": {},
     "output_type": "execute_result"
    }
   ],
   "source": [
    "pd"
   ]
  },
  {
   "cell_type": "code",
   "execution_count": 232,
   "metadata": {},
   "outputs": [
    {
     "name": "stdout",
     "output_type": "stream",
     "text": [
      "<class 'pandas.core.frame.DataFrame'>\n",
      "RangeIndex: 6633 entries, 0 to 6632\n",
      "Data columns (total 6 columns):\n",
      "id                6633 non-null int64\n",
      "granted           6633 non-null int64\n",
      "sponsor           5801 non-null object\n",
      "grant_category    5801 non-null object\n",
      "grant_value       3914 non-null float64\n",
      "date              6633 non-null object\n",
      "dtypes: float64(1), int64(2), object(3)\n",
      "memory usage: 311.0+ KB\n"
     ]
    }
   ],
   "source": [
    "apps.info()"
   ]
  },
  {
   "cell_type": "code",
   "execution_count": null,
   "metadata": {
    "collapsed": true
   },
   "outputs": [],
   "source": []
  }
 ],
 "metadata": {
  "kernelspec": {
   "display_name": "Python 3",
   "language": "python",
   "name": "python3"
  },
  "language_info": {
   "codemirror_mode": {
    "name": "ipython",
    "version": 3
   },
   "file_extension": ".py",
   "mimetype": "text/x-python",
   "name": "python",
   "nbconvert_exporter": "python",
   "pygments_lexer": "ipython3",
   "version": "3.6.2"
  }
 },
 "nbformat": 4,
 "nbformat_minor": 2
}
