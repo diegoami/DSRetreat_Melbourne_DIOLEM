{
 "cells": [
  {
   "cell_type": "code",
   "execution_count": 18,
   "metadata": {},
   "outputs": [
    {
     "name": "stderr",
     "output_type": "stream",
     "text": [
      "/home/diego/anaconda3/lib/python3.6/site-packages/IPython/core/interactiveshell.py:2717: DtypeWarning: Columns (90,105,119,120,123,124,132,134,135,138,139,147,149,150,153,154,162,164,165,168,169,177,179,183,184,192,194,198,199,207,209,213,214,224,237,239,244) have mixed types. Specify dtype option on import or set low_memory=False.\n",
      "  interactivity=interactivity, compiler=compiler, result=result)\n",
      "/home/diego/anaconda3/lib/python3.6/site-packages/IPython/core/interactiveshell.py:2717: DtypeWarning: Columns (120,135,149,150,153,154,164,165,168,169,179,183,184,194,198,199,209,213,214,224,237,239,244) have mixed types. Specify dtype option on import or set low_memory=False.\n",
      "  interactivity=interactivity, compiler=compiler, result=result)\n"
     ]
    }
   ],
   "source": [
    "import pandas as pd\n",
    "df = pd.read_csv('../data/unimelb_training.csv')\n",
    "df_train = pd.read_csv('../data/train.csv')\n",
    "df_test = pd.read_csv('../data/test.csv')"
   ]
  },
  {
   "cell_type": "code",
   "execution_count": 19,
   "metadata": {
    "collapsed": true
   },
   "outputs": [],
   "source": [
    "def get_seo(rfcds, code_st, per_st, id):\n",
    "    seo = rfcds.melt( id_vars=[id,code_st], value_vars=[per_st]).rename(columns={code_st: 'SEO.Code', per_st : 'SEO.Percentage' })\n",
    "    return seo\n",
    "\n",
    "def get_melted(rfcds, id='Grant.Application.ID'):\n",
    "    \n",
    "    seo1 = get_seo(rfcds, 'SEO.Code.1', 'SEO.Percentage.1' , id )\n",
    "    seo2 = get_seo(rfcds, 'SEO.Code.2', 'SEO.Percentage.2' , id )\n",
    "    seo3 = get_seo(rfcds, 'SEO.Code.3', 'SEO.Percentage.3' , id )\n",
    "    seo4 = get_seo(rfcds, 'SEO.Code.4', 'SEO.Percentage.4' , id )\n",
    "    seo5 = get_seo(rfcds, 'SEO.Code.5', 'SEO.Percentage.5' , id ) \n",
    "    sdcn = pd.concat([seo1, seo2, seo3, seo4, seo5]).sort_values(by=id)  \n",
    "    sdmelted = sdcn.loc[sdcn['value'] > 0].reset_index(drop=True)\n",
    "    return sdmelted"
   ]
  },
  {
   "cell_type": "code",
   "execution_count": 20,
   "metadata": {
    "collapsed": true
   },
   "outputs": [],
   "source": [
    "def post_process(df):\n",
    "    mdf = get_melted(df, id='id')\n",
    "    mdf['SEO.Code'] = mdf[['SEO.Code']].applymap(int)\n",
    "    mdf['SEO.Code'] = mdf[['SEO.Code']].applymap(str)\n",
    "    mdf = mdf.drop('variable', axis=1)\n",
    "    mdf = mdf.rename(columns={'value': 'SEO.Percentage'})\n",
    "    mdf = mdf.set_index(['id','SEO.Code']).sort_index()\n",
    "    return mdf\n",
    "    "
   ]
  },
  {
   "cell_type": "code",
   "execution_count": 21,
   "metadata": {},
   "outputs": [],
   "source": [
    "mdf_train = post_process(df_train)\n",
    "mdf_train.to_csv('../data/train_seo_raw.csv')    "
   ]
  },
  {
   "cell_type": "code",
   "execution_count": 23,
   "metadata": {},
   "outputs": [],
   "source": [
    "mdf_test = post_process(df_train)\n",
    "mdf_test.to_csv('../data/test_seo_raw.csv')"
   ]
  },
  {
   "cell_type": "code",
   "execution_count": null,
   "metadata": {
    "collapsed": true
   },
   "outputs": [],
   "source": []
  }
 ],
 "metadata": {
  "kernelspec": {
   "display_name": "Python 3",
   "language": "python",
   "name": "python3"
  },
  "language_info": {
   "codemirror_mode": {
    "name": "ipython",
    "version": 3
   },
   "file_extension": ".py",
   "mimetype": "text/x-python",
   "name": "python",
   "nbconvert_exporter": "python",
   "pygments_lexer": "ipython3",
   "version": "3.6.1"
  }
 },
 "nbformat": 4,
 "nbformat_minor": 2
}
