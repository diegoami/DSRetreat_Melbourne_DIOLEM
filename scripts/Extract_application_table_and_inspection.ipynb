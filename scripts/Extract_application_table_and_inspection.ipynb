{
 "cells": [
  {
   "cell_type": "code",
   "execution_count": 108,
   "metadata": {
    "collapsed": true
   },
   "outputs": [],
   "source": [
    "import numpy as np\n",
    "import pandas as pd\n",
    "import os.path\n",
    "import matplotlib.pyplot as plt\n",
    "%matplotlib inline"
   ]
  },
  {
   "cell_type": "code",
   "execution_count": 57,
   "metadata": {
    "collapsed": true
   },
   "outputs": [],
   "source": [
    "base = '../data/'\n",
    "path = 'train.csv'\n",
    "df = pd.read_csv(os.path.join(base,path), low_memory=False)"
   ]
  },
  {
   "cell_type": "markdown",
   "metadata": {},
   "source": [
    "grant_value:\n",
    "strip\n",
    "replace by values"
   ]
  },
  {
   "cell_type": "code",
   "execution_count": 134,
   "metadata": {},
   "outputs": [],
   "source": [
    "def create_apps(df):\n",
    "    apps = df.iloc[:,:6]\n",
    "    replace_grant_values(apps)\n",
    "    save_apps(apps)\n",
    "    return apps\n",
    "\n",
    "def replace_grant_values(apps):\n",
    "    rep = {'A':5000,\n",
    "          'B':10000,\n",
    "          'C':20000,\n",
    "          'D':30000,\n",
    "          'E':40000,\n",
    "          'F':50000,\n",
    "          'G':100000,\n",
    "          'H':200000,\n",
    "          'I':300000,\n",
    "          'J':400000,\n",
    "          'K':500000,\n",
    "          'L':600000,\n",
    "          'M':700000,\n",
    "          'N':800000,\n",
    "          'O':900000,\n",
    "          'P':1000000,\n",
    "          'Q':10000000}\n",
    "    apps['grant_value'] = apps['grant_value'].str.strip()\n",
    "    apps['grant_value'].replace(rep, inplace=True)\n",
    "    \n",
    "def save_apps(df,dataset='train'):\n",
    "    base = '../data/'\n",
    "    fname = 'apps_'+dataset +'.csv'\n",
    "    df.to_csv(os.path.join(base,fname),index=False)\n",
    "    \n",
    "    \n",
    "def print_details(ds):\n",
    "    print('Total size: {}\\n# of unique {}\\n# of nans {}'.format(\n",
    "    ds.shape[0],ds.unique().shape[0],ds.isnull().sum()))"
   ]
  },
  {
   "cell_type": "code",
   "execution_count": 135,
   "metadata": {},
   "outputs": [],
   "source": [
    "apps = create_apps(df)"
   ]
  },
  {
   "cell_type": "code",
   "execution_count": 68,
   "metadata": {},
   "outputs": [
    {
     "data": {
      "text/html": [
       "<div>\n",
       "<style>\n",
       "    .dataframe thead tr:only-child th {\n",
       "        text-align: right;\n",
       "    }\n",
       "\n",
       "    .dataframe thead th {\n",
       "        text-align: left;\n",
       "    }\n",
       "\n",
       "    .dataframe tbody tr th {\n",
       "        vertical-align: top;\n",
       "    }\n",
       "</style>\n",
       "<table border=\"1\" class=\"dataframe\">\n",
       "  <thead>\n",
       "    <tr style=\"text-align: right;\">\n",
       "      <th></th>\n",
       "      <th>id</th>\n",
       "      <th>granted</th>\n",
       "      <th>sponsor</th>\n",
       "      <th>grant_category</th>\n",
       "      <th>grant_value</th>\n",
       "      <th>date</th>\n",
       "    </tr>\n",
       "  </thead>\n",
       "  <tbody>\n",
       "    <tr>\n",
       "      <th>0</th>\n",
       "      <td>1</td>\n",
       "      <td>1</td>\n",
       "      <td>NaN</td>\n",
       "      <td>NaN</td>\n",
       "      <td>5000.0</td>\n",
       "      <td>2005-08-11</td>\n",
       "    </tr>\n",
       "    <tr>\n",
       "      <th>1</th>\n",
       "      <td>2</td>\n",
       "      <td>1</td>\n",
       "      <td>2B</td>\n",
       "      <td>10A</td>\n",
       "      <td>10000.0</td>\n",
       "      <td>2005-11-11</td>\n",
       "    </tr>\n",
       "    <tr>\n",
       "      <th>2</th>\n",
       "      <td>3</td>\n",
       "      <td>1</td>\n",
       "      <td>29A</td>\n",
       "      <td>10B</td>\n",
       "      <td>5000.0</td>\n",
       "      <td>2005-11-14</td>\n",
       "    </tr>\n",
       "    <tr>\n",
       "      <th>3</th>\n",
       "      <td>4</td>\n",
       "      <td>1</td>\n",
       "      <td>40D</td>\n",
       "      <td>10B</td>\n",
       "      <td>20000.0</td>\n",
       "      <td>2005-11-15</td>\n",
       "    </tr>\n",
       "    <tr>\n",
       "      <th>4</th>\n",
       "      <td>5</td>\n",
       "      <td>0</td>\n",
       "      <td>59C</td>\n",
       "      <td>10A</td>\n",
       "      <td>5000.0</td>\n",
       "      <td>2005-11-16</td>\n",
       "    </tr>\n",
       "  </tbody>\n",
       "</table>\n",
       "</div>"
      ],
      "text/plain": [
       "   id  granted sponsor grant_category  grant_value        date\n",
       "0   1        1     NaN            NaN       5000.0  2005-08-11\n",
       "1   2        1      2B            10A      10000.0  2005-11-11\n",
       "2   3        1     29A            10B       5000.0  2005-11-14\n",
       "3   4        1     40D            10B      20000.0  2005-11-15\n",
       "4   5        0     59C            10A       5000.0  2005-11-16"
      ]
     },
     "execution_count": 68,
     "metadata": {},
     "output_type": "execute_result"
    }
   ],
   "source": [
    "apps.head()"
   ]
  },
  {
   "cell_type": "code",
   "execution_count": 123,
   "metadata": {},
   "outputs": [
    {
     "name": "stdout",
     "output_type": "stream",
     "text": [
      "Total size: 6633\n",
      "# of unique 17\n",
      "# of nans 2719\n"
     ]
    }
   ],
   "source": []
  },
  {
   "cell_type": "code",
   "execution_count": 112,
   "metadata": {},
   "outputs": [
    {
     "data": {
      "text/plain": [
       "5000.0        1867\n",
       "10000.0        484\n",
       "20000.0        353\n",
       "30000.0        367\n",
       "40000.0        231\n",
       "50000.0        194\n",
       "100000.0       295\n",
       "200000.0        72\n",
       "300000.0        14\n",
       "400000.0        19\n",
       "500000.0         5\n",
       "600000.0         2\n",
       "700000.0         1\n",
       "900000.0         2\n",
       "1000000.0        2\n",
       "10000000.0       6\n",
       "Name: grant_value, dtype: int64"
      ]
     },
     "execution_count": 112,
     "metadata": {},
     "output_type": "execute_result"
    }
   ],
   "source": []
  },
  {
   "cell_type": "code",
   "execution_count": 124,
   "metadata": {},
   "outputs": [
    {
     "name": "stdout",
     "output_type": "stream",
     "text": [
      "Total size: 6633\n",
      "# of unique 493\n",
      "# of nans 0\n"
     ]
    }
   ],
   "source": []
  },
  {
   "cell_type": "code",
   "execution_count": null,
   "metadata": {
    "collapsed": true
   },
   "outputs": [],
   "source": []
  }
 ],
 "metadata": {
  "kernelspec": {
   "display_name": "Python 3",
   "language": "python",
   "name": "python3"
  },
  "language_info": {
   "codemirror_mode": {
    "name": "ipython",
    "version": 3
   },
   "file_extension": ".py",
   "mimetype": "text/x-python",
   "name": "python",
   "nbconvert_exporter": "python",
   "pygments_lexer": "ipython3",
   "version": "3.6.2"
  }
 },
 "nbformat": 4,
 "nbformat_minor": 2
}
