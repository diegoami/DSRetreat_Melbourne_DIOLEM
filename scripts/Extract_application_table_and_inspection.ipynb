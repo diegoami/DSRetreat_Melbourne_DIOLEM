{
 "cells": [
  {
   "cell_type": "code",
   "execution_count": 15,
   "metadata": {
    "collapsed": true
   },
   "outputs": [],
   "source": [
    "import numpy as np\n",
    "import pandas as pd\n",
    "import os.path\n",
    "%matplotlib inline"
   ]
  },
  {
   "cell_type": "code",
   "execution_count": 16,
   "metadata": {
    "collapsed": true
   },
   "outputs": [],
   "source": [
    "base = '../data/'\n",
    "path = 'train.csv'\n",
    "df = pd.read_csv(os.path.join(base,path), low_memory=False)"
   ]
  },
  {
   "cell_type": "code",
   "execution_count": 28,
   "metadata": {},
   "outputs": [],
   "source": [
    "apps = df.iloc[:,:6]\n",
    "apps.head()\n",
    "rep = {'A':5000,\n",
    "      'B':10000,\n",
    "      'C':20000,\n",
    "      'D':30000,\n",
    "      'E':40000,\n",
    "      'F':50000,\n",
    "      'G':100000,\n",
    "      'H':200000,\n",
    "      'I':300000,\n",
    "      'J':400000,\n",
    "      'K':500000,\n",
    "      'L':600000,\n",
    "      'M':700000,\n",
    "      'N':800000,\n",
    "      'O':900000,\n",
    "      'P':1000000,\n",
    "      'Q':10000000}"
   ]
  },
  {
   "cell_type": "code",
   "execution_count": null,
   "metadata": {
    "collapsed": true
   },
   "outputs": [],
   "source": []
  }
 ],
 "metadata": {
  "kernelspec": {
   "display_name": "Python 3",
   "language": "python",
   "name": "python3"
  },
  "language_info": {
   "codemirror_mode": {
    "name": "ipython",
    "version": 3
   },
   "file_extension": ".py",
   "mimetype": "text/x-python",
   "name": "python",
   "nbconvert_exporter": "python",
   "pygments_lexer": "ipython3",
   "version": "3.6.2"
  }
 },
 "nbformat": 4,
 "nbformat_minor": 2
}
